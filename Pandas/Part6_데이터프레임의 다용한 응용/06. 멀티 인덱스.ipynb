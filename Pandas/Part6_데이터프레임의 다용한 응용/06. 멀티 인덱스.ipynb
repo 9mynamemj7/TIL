{
 "cells": [
  {
   "cell_type": "code",
   "execution_count": 1,
   "metadata": {},
   "outputs": [
    {
     "name": "stdout",
     "output_type": "stream",
     "text": [
      "                     age        fare  survived\n",
      "class  sex                                    \n",
      "First  female  34.611765  106.125798  0.968085\n",
      "       male    41.281386   67.226127  0.368852\n",
      "Second female  28.722973   21.970121  0.921053\n",
      "       male    30.740707   19.741782  0.157407\n",
      "Third  female  21.750000   16.118810  0.500000\n",
      "       male    26.507589   12.661633  0.135447\n",
      "\n",
      "\n",
      "<class 'pandas.core.frame.DataFrame'>\n",
      "              age        fare  survived\n",
      "sex                                    \n",
      "female  34.611765  106.125798  0.968085\n",
      "male    41.281386   67.226127  0.368852\n",
      "\n",
      "\n",
      "age          34.611765\n",
      "fare        106.125798\n",
      "survived      0.968085\n",
      "Name: (First, female), dtype: float64\n",
      "\n",
      "\n",
      "              age       fare  survived\n",
      "class                                 \n",
      "First   41.281386  67.226127  0.368852\n",
      "Second  30.740707  19.741782  0.157407\n",
      "Third   26.507589  12.661633  0.135447\n"
     ]
    }
   ],
   "source": [
    "import pandas as pd\n",
    "import seaborn as sns\n",
    "\n",
    "# titanic 데이터셋에서 age, sex 등 5개 열을 선택하여 데이터프레임 만들기\n",
    "titanic = sns.load_dataset('titanic')\n",
    "df = titanic.loc[:, ['age','sex', 'class', 'fare', 'survived']]\n",
    "\n",
    "# class 열, sex 열을 기준으로 분할\n",
    "grouped = df.groupby(['class', 'sex'])  \n",
    "\n",
    "# 그룹 객체에 연산 메서드 적용\n",
    "gdf = grouped.mean()\n",
    "print(gdf)\n",
    "print('\\n')\n",
    "print(type(gdf))\n",
    "\n",
    "# class 값이 First인 행을 선택하여 출력\n",
    "print(gdf.loc['First'])\n",
    "print('\\n')\n",
    "\n",
    "# class 값이 First이고, sex 값이 female인 행을 선택하여 출력\n",
    "print(gdf.loc[('First', 'female')])\n",
    "print('\\n')\n",
    "\n",
    "# sex 값이 male인 행을 선택하여 출력\n",
    "print(gdf.xs('male', level='sex'))"
   ]
  },
  {
   "cell_type": "code",
   "execution_count": null,
   "metadata": {},
   "outputs": [],
   "source": []
  }
 ],
 "metadata": {
  "kernelspec": {
   "display_name": "Python 3.9.12 ('base')",
   "language": "python",
   "name": "python3"
  },
  "language_info": {
   "codemirror_mode": {
    "name": "ipython",
    "version": 3
   },
   "file_extension": ".py",
   "mimetype": "text/x-python",
   "name": "python",
   "nbconvert_exporter": "python",
   "pygments_lexer": "ipython3",
   "version": "3.9.12"
  },
  "orig_nbformat": 4,
  "vscode": {
   "interpreter": {
    "hash": "64ad63c99461a6208367178e6406c3851036b2bdbc009871f1418873cc786cc4"
   }
  }
 },
 "nbformat": 4,
 "nbformat_minor": 2
}
