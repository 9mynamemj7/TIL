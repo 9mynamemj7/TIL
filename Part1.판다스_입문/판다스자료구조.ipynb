{
 "cells": [
  {
   "cell_type": "markdown",
   "metadata": {},
   "source": [
    "#### 데이터 과학자가 판다스를 배우는 이유\n",
    "    : 데이터 분석 업무의 80~90%는 데이터를 수집하고 정리하는 일이 차지한다고 한다.\n",
    "    나머지 10~20%는 알고리즘을 선택하고, 모델링 결과를 분석하여 데이터로부터 유용한 정보를 뽑아내는 분석프로세스의 몫이다."
   ]
  },
  {
   "cell_type": "markdown",
   "metadata": {},
   "source": [
    "#### 판다스 자료구조\n",
    "    시리즈: 1차원 배열\n",
    "    데이터프레임: 2차원 배열\n",
    "    \n",
    "- 시리즈\n",
    "    \n",
    "    인덱스와 값의 일대일 대응"
   ]
  },
  {
   "cell_type": "code",
   "execution_count": null,
   "metadata": {},
   "outputs": [],
   "source": []
  }
 ],
 "metadata": {
  "language_info": {
   "name": "python"
  },
  "orig_nbformat": 4
 },
 "nbformat": 4,
 "nbformat_minor": 2
}
