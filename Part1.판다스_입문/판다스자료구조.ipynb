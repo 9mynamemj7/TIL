{
 "cells": [
  {
   "cell_type": "markdown",
   "metadata": {},
   "source": [
    "#### 데이터 과학자가 판다스를 배우는 이유\n",
    "    : 데이터 분석 업무의 80~90%는 데이터를 수집하고 정리하는 일이 차지한다고 한다.\n",
    "    나머지 10~20%는 알고리즘을 선택하고, 모델링 결과를 분석하여 데이터로부터 유용한 정보를 뽑아내는 분석프로세스의 몫이다."
   ]
  },
  {
   "cell_type": "markdown",
   "metadata": {},
   "source": [
    "#### 판다스 자료구조\n",
    "    시리즈: 1차원 배열\n",
    "    데이터프레임: 2차원 배열\n",
    "    \n",
    "- 시리즈\n",
    "    \n",
    "    인덱스와 값의 일대일 대응"
   ]
  },
  {
   "cell_type": "code",
   "execution_count": 5,
   "metadata": {},
   "outputs": [
    {
     "name": "stdout",
     "output_type": "stream",
     "text": [
      "<class 'pandas.core.series.Series'> \n",
      "\n",
      "a    1\n",
      "b    2\n",
      "c    3\n",
      "dtype: int64\n"
     ]
    }
   ],
   "source": [
    "# 딕셔너리 -> 시리즈\n",
    "import pandas as pd\n",
    "\n",
    "dict_data = {\"a\": 1, \"b\": 2, \"c\": 3}\n",
    "\n",
    "sr = pd.Series(dict_data)\n",
    "print(type(sr),\"\\n\")\n",
    "print(sr)"
   ]
  },
  {
   "cell_type": "code",
   "execution_count": 6,
   "metadata": {},
   "outputs": [
    {
     "data": {
      "text/plain": [
       "0    2022-04-25\n",
       "1          3.14\n",
       "2           ABC\n",
       "3           100\n",
       "4          True\n",
       "dtype: object"
      ]
     },
     "execution_count": 6,
     "metadata": {},
     "output_type": "execute_result"
    }
   ],
   "source": [
    "# 인덱스 값을 지정 해 주지 않을 경우 인덱스는 (0~ )\n",
    "list_data = ['2022-04-25', 3.14, 'ABC', 100, True]\n",
    "sr = pd.Series(list_data)\n",
    "sr"
   ]
  },
  {
   "cell_type": "code",
   "execution_count": 14,
   "metadata": {},
   "outputs": [
    {
     "name": "stdout",
     "output_type": "stream",
     "text": [
      "RangeIndex(start=0, stop=5, step=1) \n",
      " ['2022-04-25' 3.14 'ABC' 100 True]\n",
      "<class 'numpy.ndarray'>\n"
     ]
    }
   ],
   "source": [
    "# index와 value 추출\n",
    "idx = sr.index\n",
    "val = sr.values\n",
    "print(idx,\"\\n\",val)\n",
    "print(type(val))"
   ]
  },
  {
   "cell_type": "code",
   "execution_count": 11,
   "metadata": {},
   "outputs": [],
   "source": [
    "# 추가) 위 val은 한줄이어서 리스트인줄 알았지만 array구조였다.\n",
    "dic={\"a\": [1,2,3], \"b\": [2,3,4], \"c\": [3,4,5]}\n",
    "sr1 = pd.DataFrame(dic)\n",
    "sr1.values"
   ]
  },
  {
   "cell_type": "code",
   "execution_count": 23,
   "metadata": {},
   "outputs": [
    {
     "data": {
      "text/html": [
       "<div>\n",
       "<style scoped>\n",
       "    .dataframe tbody tr th:only-of-type {\n",
       "        vertical-align: middle;\n",
       "    }\n",
       "\n",
       "    .dataframe tbody tr th {\n",
       "        vertical-align: top;\n",
       "    }\n",
       "\n",
       "    .dataframe thead th {\n",
       "        text-align: right;\n",
       "    }\n",
       "</style>\n",
       "<table border=\"1\" class=\"dataframe\">\n",
       "  <thead>\n",
       "    <tr style=\"text-align: right;\">\n",
       "      <th></th>\n",
       "      <th>a</th>\n",
       "      <th>b</th>\n",
       "      <th>c</th>\n",
       "    </tr>\n",
       "  </thead>\n",
       "  <tbody>\n",
       "    <tr>\n",
       "      <th>row_1</th>\n",
       "      <td>1</td>\n",
       "      <td>2</td>\n",
       "      <td>3</td>\n",
       "    </tr>\n",
       "  </tbody>\n",
       "</table>\n",
       "</div>"
      ],
      "text/plain": [
       "       a  b  c\n",
       "row_1  1  2  3"
      ]
     },
     "execution_count": 23,
     "metadata": {},
     "output_type": "execute_result"
    }
   ],
   "source": [
    "# 딕셔너리를 그대로 DataFrame에 넣자 오류가 뜬다, 인덱스값을 지정 해줘야함([]로 묶어서)\n",
    "pd.DataFrame({\"a\":1,\"b\":2,\"c\":3}, index=['row_1'])"
   ]
  },
  {
   "cell_type": "code",
   "execution_count": 24,
   "metadata": {},
   "outputs": [
    {
     "data": {
      "text/plain": [
       "이름              영인\n",
       "생년월일    2022-04-25\n",
       "성별               여\n",
       "학생여부          True\n",
       "dtype: object"
      ]
     },
     "execution_count": 24,
     "metadata": {},
     "output_type": "execute_result"
    }
   ],
   "source": [
    "# 튜플 -> 시리즈\n",
    "tup_data = (\"영인\",\"2022-04-25\",\"여\",True)\n",
    "sr = pd.Series(tup_data, index=[\"이름\",\"생년월일\",\"성별\",\"학생여부\"])\n",
    "sr"
   ]
  },
  {
   "cell_type": "code",
   "execution_count": 30,
   "metadata": {},
   "outputs": [
    {
     "name": "stdout",
     "output_type": "stream",
     "text": [
      "방법 1: 인덱스값 넣기 = 영인 \n",
      "방법 2: 인덱스 라벨 넣기 = 영인\n"
     ]
    }
   ],
   "source": [
    "# 인덱스를 이용하여 원소를 선택하는 방법\n",
    "print(\"방법 1: 인덱스값 넣기 =\",sr[0],\"\\n\"+\"방법 2: 인덱스 라벨 넣기 =\",sr[\"이름\"])"
   ]
  },
  {
   "cell_type": "code",
   "execution_count": 37,
   "metadata": {},
   "outputs": [
    {
     "name": "stdout",
     "output_type": "stream",
     "text": [
      "생년월일    2022-04-25\n",
      "성별               여\n",
      "dtype: object \n",
      "\n",
      "이름              영인\n",
      "생년월일    2022-04-25\n",
      "성별               여\n",
      "학생여부          True\n",
      "dtype: object\n"
     ]
    }
   ],
   "source": [
    "# 여러 개의 인덱스를 \"대괄호 안에\" 리스트 형태로 입력\n",
    "print(sr[[1,2]],\"\\n\")\n",
    "# 여러 개의 인덱스를 \"대괄호 없이\" 리스트 형태로 범위지정하여 입력\n",
    "print(sr[\"이름\":\"학생여부\"])"
   ]
  },
  {
   "cell_type": "code",
   "execution_count": null,
   "metadata": {},
   "outputs": [],
   "source": []
  }
 ],
 "metadata": {
  "interpreter": {
   "hash": "864308e689910a03346daea862ed11c0cd84d907eef40c9115ce5d353833e72e"
  },
  "kernelspec": {
   "display_name": "Python 3.10.1 64-bit",
   "language": "python",
   "name": "python3"
  },
  "language_info": {
   "codemirror_mode": {
    "name": "ipython",
    "version": 3
   },
   "file_extension": ".py",
   "mimetype": "text/x-python",
   "name": "python",
   "nbconvert_exporter": "python",
   "pygments_lexer": "ipython3",
   "version": "3.10.1"
  },
  "orig_nbformat": 4
 },
 "nbformat": 4,
 "nbformat_minor": 2
}
