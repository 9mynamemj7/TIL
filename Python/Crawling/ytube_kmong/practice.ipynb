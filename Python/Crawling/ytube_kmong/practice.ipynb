{
 "cells": [
  {
   "attachments": {},
   "cell_type": "markdown",
   "metadata": {},
   "source": [
    "### Kmong"
   ]
  },
  {
   "cell_type": "code",
   "execution_count": 1,
   "metadata": {},
   "outputs": [],
   "source": [
    "import json\n",
    "import requests\n",
    "import pandas as pd\n",
    "from tqdm import tqdm\n",
    "from bs4 import BeautifulSoup as bs\n",
    "\n",
    "headers = {\n",
    "    \"User-Agent\" : \"Mozilla/5.0 (Windows NT 10.0; Win64; x64) AppleWebKit/537.36 (KHTML, like Gecko) Chrome/110.0.0.0 Safari/537.36\"\n",
    "}"
   ]
  },
  {
   "cell_type": "code",
   "execution_count": 2,
   "metadata": {},
   "outputs": [
    {
     "name": "stderr",
     "output_type": "stream",
     "text": [
      " 13%|█▎        | 47/368 [01:49<12:27,  2.33s/it]\n"
     ]
    },
    {
     "ename": "KeyboardInterrupt",
     "evalue": "",
     "output_type": "error",
     "traceback": [
      "\u001b[1;31m---------------------------------------------------------------------------\u001b[0m",
      "\u001b[1;31mKeyboardInterrupt\u001b[0m                         Traceback (most recent call last)",
      "Cell \u001b[1;32mIn[2], line 20\u001b[0m\n\u001b[0;32m     18\u001b[0m \u001b[39mfor\u001b[39;00m api_page \u001b[39min\u001b[39;00m \u001b[39mrange\u001b[39m(\u001b[39m1\u001b[39m, \u001b[39mint\u001b[39m(review_data[\u001b[39m'\u001b[39m\u001b[39mlast_page\u001b[39m\u001b[39m'\u001b[39m]) \u001b[39m+\u001b[39m \u001b[39m1\u001b[39m):\n\u001b[0;32m     19\u001b[0m     total_api_url \u001b[39m=\u001b[39m \u001b[39mf\u001b[39m\u001b[39m\"\u001b[39m\u001b[39mhttps://kmong.com/api/v5/gigs/\u001b[39m\u001b[39m{\u001b[39;00mcode\u001b[39m}\u001b[39;00m\u001b[39m/ratings?page=\u001b[39m\u001b[39m{\u001b[39;00mapi_page\u001b[39m}\u001b[39;00m\u001b[39m&order_by=REPLIED_AT_DESC\u001b[39m\u001b[39m\"\u001b[39m\n\u001b[1;32m---> 20\u001b[0m     second_soup \u001b[39m=\u001b[39m bs(requests\u001b[39m.\u001b[39;49mget(total_api_url, headers\u001b[39m=\u001b[39;49mheaders)\u001b[39m.\u001b[39mtext, \u001b[39m\"\u001b[39m\u001b[39mhtml.parser\u001b[39m\u001b[39m\"\u001b[39m)\n\u001b[0;32m     21\u001b[0m     json_f \u001b[39m=\u001b[39m json\u001b[39m.\u001b[39mloads(second_soup\u001b[39m.\u001b[39mtext)\n\u001b[0;32m     22\u001b[0m     \u001b[39mfor\u001b[39;00m review_data \u001b[39min\u001b[39;00m json_f[\u001b[39m'\u001b[39m\u001b[39mratings\u001b[39m\u001b[39m'\u001b[39m]:\n",
      "File \u001b[1;32mc:\\Users\\ka5560\\miniconda3\\envs\\work\\lib\\site-packages\\requests\\api.py:73\u001b[0m, in \u001b[0;36mget\u001b[1;34m(url, params, **kwargs)\u001b[0m\n\u001b[0;32m     62\u001b[0m \u001b[39mdef\u001b[39;00m \u001b[39mget\u001b[39m(url, params\u001b[39m=\u001b[39m\u001b[39mNone\u001b[39;00m, \u001b[39m*\u001b[39m\u001b[39m*\u001b[39mkwargs):\n\u001b[0;32m     63\u001b[0m     \u001b[39mr\u001b[39m\u001b[39m\"\"\"Sends a GET request.\u001b[39;00m\n\u001b[0;32m     64\u001b[0m \n\u001b[0;32m     65\u001b[0m \u001b[39m    :param url: URL for the new :class:`Request` object.\u001b[39;00m\n\u001b[1;32m   (...)\u001b[0m\n\u001b[0;32m     70\u001b[0m \u001b[39m    :rtype: requests.Response\u001b[39;00m\n\u001b[0;32m     71\u001b[0m \u001b[39m    \"\"\"\u001b[39;00m\n\u001b[1;32m---> 73\u001b[0m     \u001b[39mreturn\u001b[39;00m request(\u001b[39m\"\u001b[39m\u001b[39mget\u001b[39m\u001b[39m\"\u001b[39m, url, params\u001b[39m=\u001b[39mparams, \u001b[39m*\u001b[39m\u001b[39m*\u001b[39mkwargs)\n",
      "File \u001b[1;32mc:\\Users\\ka5560\\miniconda3\\envs\\work\\lib\\site-packages\\requests\\api.py:59\u001b[0m, in \u001b[0;36mrequest\u001b[1;34m(method, url, **kwargs)\u001b[0m\n\u001b[0;32m     55\u001b[0m \u001b[39m# By using the 'with' statement we are sure the session is closed, thus we\u001b[39;00m\n\u001b[0;32m     56\u001b[0m \u001b[39m# avoid leaving sockets open which can trigger a ResourceWarning in some\u001b[39;00m\n\u001b[0;32m     57\u001b[0m \u001b[39m# cases, and look like a memory leak in others.\u001b[39;00m\n\u001b[0;32m     58\u001b[0m \u001b[39mwith\u001b[39;00m sessions\u001b[39m.\u001b[39mSession() \u001b[39mas\u001b[39;00m session:\n\u001b[1;32m---> 59\u001b[0m     \u001b[39mreturn\u001b[39;00m session\u001b[39m.\u001b[39mrequest(method\u001b[39m=\u001b[39mmethod, url\u001b[39m=\u001b[39murl, \u001b[39m*\u001b[39m\u001b[39m*\u001b[39mkwargs)\n",
      "File \u001b[1;32mc:\\Users\\ka5560\\miniconda3\\envs\\work\\lib\\site-packages\\requests\\sessions.py:587\u001b[0m, in \u001b[0;36mSession.request\u001b[1;34m(self, method, url, params, data, headers, cookies, files, auth, timeout, allow_redirects, proxies, hooks, stream, verify, cert, json)\u001b[0m\n\u001b[0;32m    582\u001b[0m send_kwargs \u001b[39m=\u001b[39m {\n\u001b[0;32m    583\u001b[0m     \u001b[39m\"\u001b[39m\u001b[39mtimeout\u001b[39m\u001b[39m\"\u001b[39m: timeout,\n\u001b[0;32m    584\u001b[0m     \u001b[39m\"\u001b[39m\u001b[39mallow_redirects\u001b[39m\u001b[39m\"\u001b[39m: allow_redirects,\n\u001b[0;32m    585\u001b[0m }\n\u001b[0;32m    586\u001b[0m send_kwargs\u001b[39m.\u001b[39mupdate(settings)\n\u001b[1;32m--> 587\u001b[0m resp \u001b[39m=\u001b[39m \u001b[39mself\u001b[39m\u001b[39m.\u001b[39msend(prep, \u001b[39m*\u001b[39m\u001b[39m*\u001b[39msend_kwargs)\n\u001b[0;32m    589\u001b[0m \u001b[39mreturn\u001b[39;00m resp\n",
      "File \u001b[1;32mc:\\Users\\ka5560\\miniconda3\\envs\\work\\lib\\site-packages\\requests\\sessions.py:701\u001b[0m, in \u001b[0;36mSession.send\u001b[1;34m(self, request, **kwargs)\u001b[0m\n\u001b[0;32m    698\u001b[0m start \u001b[39m=\u001b[39m preferred_clock()\n\u001b[0;32m    700\u001b[0m \u001b[39m# Send the request\u001b[39;00m\n\u001b[1;32m--> 701\u001b[0m r \u001b[39m=\u001b[39m adapter\u001b[39m.\u001b[39msend(request, \u001b[39m*\u001b[39m\u001b[39m*\u001b[39mkwargs)\n\u001b[0;32m    703\u001b[0m \u001b[39m# Total elapsed time of the request (approximately)\u001b[39;00m\n\u001b[0;32m    704\u001b[0m elapsed \u001b[39m=\u001b[39m preferred_clock() \u001b[39m-\u001b[39m start\n",
      "File \u001b[1;32mc:\\Users\\ka5560\\miniconda3\\envs\\work\\lib\\site-packages\\requests\\adapters.py:489\u001b[0m, in \u001b[0;36mHTTPAdapter.send\u001b[1;34m(self, request, stream, timeout, verify, cert, proxies)\u001b[0m\n\u001b[0;32m    487\u001b[0m \u001b[39mtry\u001b[39;00m:\n\u001b[0;32m    488\u001b[0m     \u001b[39mif\u001b[39;00m \u001b[39mnot\u001b[39;00m chunked:\n\u001b[1;32m--> 489\u001b[0m         resp \u001b[39m=\u001b[39m conn\u001b[39m.\u001b[39;49murlopen(\n\u001b[0;32m    490\u001b[0m             method\u001b[39m=\u001b[39;49mrequest\u001b[39m.\u001b[39;49mmethod,\n\u001b[0;32m    491\u001b[0m             url\u001b[39m=\u001b[39;49murl,\n\u001b[0;32m    492\u001b[0m             body\u001b[39m=\u001b[39;49mrequest\u001b[39m.\u001b[39;49mbody,\n\u001b[0;32m    493\u001b[0m             headers\u001b[39m=\u001b[39;49mrequest\u001b[39m.\u001b[39;49mheaders,\n\u001b[0;32m    494\u001b[0m             redirect\u001b[39m=\u001b[39;49m\u001b[39mFalse\u001b[39;49;00m,\n\u001b[0;32m    495\u001b[0m             assert_same_host\u001b[39m=\u001b[39;49m\u001b[39mFalse\u001b[39;49;00m,\n\u001b[0;32m    496\u001b[0m             preload_content\u001b[39m=\u001b[39;49m\u001b[39mFalse\u001b[39;49;00m,\n\u001b[0;32m    497\u001b[0m             decode_content\u001b[39m=\u001b[39;49m\u001b[39mFalse\u001b[39;49;00m,\n\u001b[0;32m    498\u001b[0m             retries\u001b[39m=\u001b[39;49m\u001b[39mself\u001b[39;49m\u001b[39m.\u001b[39;49mmax_retries,\n\u001b[0;32m    499\u001b[0m             timeout\u001b[39m=\u001b[39;49mtimeout,\n\u001b[0;32m    500\u001b[0m         )\n\u001b[0;32m    502\u001b[0m     \u001b[39m# Send the request.\u001b[39;00m\n\u001b[0;32m    503\u001b[0m     \u001b[39melse\u001b[39;00m:\n\u001b[0;32m    504\u001b[0m         \u001b[39mif\u001b[39;00m \u001b[39mhasattr\u001b[39m(conn, \u001b[39m\"\u001b[39m\u001b[39mproxy_pool\u001b[39m\u001b[39m\"\u001b[39m):\n",
      "File \u001b[1;32mc:\\Users\\ka5560\\miniconda3\\envs\\work\\lib\\site-packages\\urllib3\\connectionpool.py:703\u001b[0m, in \u001b[0;36mHTTPConnectionPool.urlopen\u001b[1;34m(self, method, url, body, headers, retries, redirect, assert_same_host, timeout, pool_timeout, release_conn, chunked, body_pos, **response_kw)\u001b[0m\n\u001b[0;32m    700\u001b[0m     \u001b[39mself\u001b[39m\u001b[39m.\u001b[39m_prepare_proxy(conn)\n\u001b[0;32m    702\u001b[0m \u001b[39m# Make the request on the httplib connection object.\u001b[39;00m\n\u001b[1;32m--> 703\u001b[0m httplib_response \u001b[39m=\u001b[39m \u001b[39mself\u001b[39;49m\u001b[39m.\u001b[39;49m_make_request(\n\u001b[0;32m    704\u001b[0m     conn,\n\u001b[0;32m    705\u001b[0m     method,\n\u001b[0;32m    706\u001b[0m     url,\n\u001b[0;32m    707\u001b[0m     timeout\u001b[39m=\u001b[39;49mtimeout_obj,\n\u001b[0;32m    708\u001b[0m     body\u001b[39m=\u001b[39;49mbody,\n\u001b[0;32m    709\u001b[0m     headers\u001b[39m=\u001b[39;49mheaders,\n\u001b[0;32m    710\u001b[0m     chunked\u001b[39m=\u001b[39;49mchunked,\n\u001b[0;32m    711\u001b[0m )\n\u001b[0;32m    713\u001b[0m \u001b[39m# If we're going to release the connection in ``finally:``, then\u001b[39;00m\n\u001b[0;32m    714\u001b[0m \u001b[39m# the response doesn't need to know about the connection. Otherwise\u001b[39;00m\n\u001b[0;32m    715\u001b[0m \u001b[39m# it will also try to release it and we'll have a double-release\u001b[39;00m\n\u001b[0;32m    716\u001b[0m \u001b[39m# mess.\u001b[39;00m\n\u001b[0;32m    717\u001b[0m response_conn \u001b[39m=\u001b[39m conn \u001b[39mif\u001b[39;00m \u001b[39mnot\u001b[39;00m release_conn \u001b[39melse\u001b[39;00m \u001b[39mNone\u001b[39;00m\n",
      "File \u001b[1;32mc:\\Users\\ka5560\\miniconda3\\envs\\work\\lib\\site-packages\\urllib3\\connectionpool.py:386\u001b[0m, in \u001b[0;36mHTTPConnectionPool._make_request\u001b[1;34m(self, conn, method, url, timeout, chunked, **httplib_request_kw)\u001b[0m\n\u001b[0;32m    384\u001b[0m \u001b[39m# Trigger any extra validation we need to do.\u001b[39;00m\n\u001b[0;32m    385\u001b[0m \u001b[39mtry\u001b[39;00m:\n\u001b[1;32m--> 386\u001b[0m     \u001b[39mself\u001b[39;49m\u001b[39m.\u001b[39;49m_validate_conn(conn)\n\u001b[0;32m    387\u001b[0m \u001b[39mexcept\u001b[39;00m (SocketTimeout, BaseSSLError) \u001b[39mas\u001b[39;00m e:\n\u001b[0;32m    388\u001b[0m     \u001b[39m# Py2 raises this as a BaseSSLError, Py3 raises it as socket timeout.\u001b[39;00m\n\u001b[0;32m    389\u001b[0m     \u001b[39mself\u001b[39m\u001b[39m.\u001b[39m_raise_timeout(err\u001b[39m=\u001b[39me, url\u001b[39m=\u001b[39murl, timeout_value\u001b[39m=\u001b[39mconn\u001b[39m.\u001b[39mtimeout)\n",
      "File \u001b[1;32mc:\\Users\\ka5560\\miniconda3\\envs\\work\\lib\\site-packages\\urllib3\\connectionpool.py:1042\u001b[0m, in \u001b[0;36mHTTPSConnectionPool._validate_conn\u001b[1;34m(self, conn)\u001b[0m\n\u001b[0;32m   1040\u001b[0m \u001b[39m# Force connect early to allow us to validate the connection.\u001b[39;00m\n\u001b[0;32m   1041\u001b[0m \u001b[39mif\u001b[39;00m \u001b[39mnot\u001b[39;00m \u001b[39mgetattr\u001b[39m(conn, \u001b[39m\"\u001b[39m\u001b[39msock\u001b[39m\u001b[39m\"\u001b[39m, \u001b[39mNone\u001b[39;00m):  \u001b[39m# AppEngine might not have  `.sock`\u001b[39;00m\n\u001b[1;32m-> 1042\u001b[0m     conn\u001b[39m.\u001b[39;49mconnect()\n\u001b[0;32m   1044\u001b[0m \u001b[39mif\u001b[39;00m \u001b[39mnot\u001b[39;00m conn\u001b[39m.\u001b[39mis_verified:\n\u001b[0;32m   1045\u001b[0m     warnings\u001b[39m.\u001b[39mwarn(\n\u001b[0;32m   1046\u001b[0m         (\n\u001b[0;32m   1047\u001b[0m             \u001b[39m\"\u001b[39m\u001b[39mUnverified HTTPS request is being made to host \u001b[39m\u001b[39m'\u001b[39m\u001b[39m%s\u001b[39;00m\u001b[39m'\u001b[39m\u001b[39m. \u001b[39m\u001b[39m\"\u001b[39m\n\u001b[1;32m   (...)\u001b[0m\n\u001b[0;32m   1052\u001b[0m         InsecureRequestWarning,\n\u001b[0;32m   1053\u001b[0m     )\n",
      "File \u001b[1;32mc:\\Users\\ka5560\\miniconda3\\envs\\work\\lib\\site-packages\\urllib3\\connection.py:414\u001b[0m, in \u001b[0;36mHTTPSConnection.connect\u001b[1;34m(self)\u001b[0m\n\u001b[0;32m    405\u001b[0m \u001b[39mif\u001b[39;00m (\n\u001b[0;32m    406\u001b[0m     \u001b[39mnot\u001b[39;00m \u001b[39mself\u001b[39m\u001b[39m.\u001b[39mca_certs\n\u001b[0;32m    407\u001b[0m     \u001b[39mand\u001b[39;00m \u001b[39mnot\u001b[39;00m \u001b[39mself\u001b[39m\u001b[39m.\u001b[39mca_cert_dir\n\u001b[1;32m   (...)\u001b[0m\n\u001b[0;32m    410\u001b[0m     \u001b[39mand\u001b[39;00m \u001b[39mhasattr\u001b[39m(context, \u001b[39m\"\u001b[39m\u001b[39mload_default_certs\u001b[39m\u001b[39m\"\u001b[39m)\n\u001b[0;32m    411\u001b[0m ):\n\u001b[0;32m    412\u001b[0m     context\u001b[39m.\u001b[39mload_default_certs()\n\u001b[1;32m--> 414\u001b[0m \u001b[39mself\u001b[39m\u001b[39m.\u001b[39msock \u001b[39m=\u001b[39m ssl_wrap_socket(\n\u001b[0;32m    415\u001b[0m     sock\u001b[39m=\u001b[39;49mconn,\n\u001b[0;32m    416\u001b[0m     keyfile\u001b[39m=\u001b[39;49m\u001b[39mself\u001b[39;49m\u001b[39m.\u001b[39;49mkey_file,\n\u001b[0;32m    417\u001b[0m     certfile\u001b[39m=\u001b[39;49m\u001b[39mself\u001b[39;49m\u001b[39m.\u001b[39;49mcert_file,\n\u001b[0;32m    418\u001b[0m     key_password\u001b[39m=\u001b[39;49m\u001b[39mself\u001b[39;49m\u001b[39m.\u001b[39;49mkey_password,\n\u001b[0;32m    419\u001b[0m     ca_certs\u001b[39m=\u001b[39;49m\u001b[39mself\u001b[39;49m\u001b[39m.\u001b[39;49mca_certs,\n\u001b[0;32m    420\u001b[0m     ca_cert_dir\u001b[39m=\u001b[39;49m\u001b[39mself\u001b[39;49m\u001b[39m.\u001b[39;49mca_cert_dir,\n\u001b[0;32m    421\u001b[0m     ca_cert_data\u001b[39m=\u001b[39;49m\u001b[39mself\u001b[39;49m\u001b[39m.\u001b[39;49mca_cert_data,\n\u001b[0;32m    422\u001b[0m     server_hostname\u001b[39m=\u001b[39;49mserver_hostname,\n\u001b[0;32m    423\u001b[0m     ssl_context\u001b[39m=\u001b[39;49mcontext,\n\u001b[0;32m    424\u001b[0m     tls_in_tls\u001b[39m=\u001b[39;49mtls_in_tls,\n\u001b[0;32m    425\u001b[0m )\n\u001b[0;32m    427\u001b[0m \u001b[39m# If we're using all defaults and the connection\u001b[39;00m\n\u001b[0;32m    428\u001b[0m \u001b[39m# is TLSv1 or TLSv1.1 we throw a DeprecationWarning\u001b[39;00m\n\u001b[0;32m    429\u001b[0m \u001b[39m# for the host.\u001b[39;00m\n\u001b[0;32m    430\u001b[0m \u001b[39mif\u001b[39;00m (\n\u001b[0;32m    431\u001b[0m     default_ssl_context\n\u001b[0;32m    432\u001b[0m     \u001b[39mand\u001b[39;00m \u001b[39mself\u001b[39m\u001b[39m.\u001b[39mssl_version \u001b[39mis\u001b[39;00m \u001b[39mNone\u001b[39;00m\n\u001b[0;32m    433\u001b[0m     \u001b[39mand\u001b[39;00m \u001b[39mhasattr\u001b[39m(\u001b[39mself\u001b[39m\u001b[39m.\u001b[39msock, \u001b[39m\"\u001b[39m\u001b[39mversion\u001b[39m\u001b[39m\"\u001b[39m)\n\u001b[0;32m    434\u001b[0m     \u001b[39mand\u001b[39;00m \u001b[39mself\u001b[39m\u001b[39m.\u001b[39msock\u001b[39m.\u001b[39mversion() \u001b[39min\u001b[39;00m {\u001b[39m\"\u001b[39m\u001b[39mTLSv1\u001b[39m\u001b[39m\"\u001b[39m, \u001b[39m\"\u001b[39m\u001b[39mTLSv1.1\u001b[39m\u001b[39m\"\u001b[39m}\n\u001b[0;32m    435\u001b[0m ):\n",
      "File \u001b[1;32mc:\\Users\\ka5560\\miniconda3\\envs\\work\\lib\\site-packages\\urllib3\\util\\ssl_.py:449\u001b[0m, in \u001b[0;36mssl_wrap_socket\u001b[1;34m(sock, keyfile, certfile, cert_reqs, ca_certs, server_hostname, ssl_version, ciphers, ssl_context, ca_cert_dir, key_password, ca_cert_data, tls_in_tls)\u001b[0m\n\u001b[0;32m    437\u001b[0m     warnings\u001b[39m.\u001b[39mwarn(\n\u001b[0;32m    438\u001b[0m         \u001b[39m\"\u001b[39m\u001b[39mAn HTTPS request has been made, but the SNI (Server Name \u001b[39m\u001b[39m\"\u001b[39m\n\u001b[0;32m    439\u001b[0m         \u001b[39m\"\u001b[39m\u001b[39mIndication) extension to TLS is not available on this platform. \u001b[39m\u001b[39m\"\u001b[39m\n\u001b[1;32m   (...)\u001b[0m\n\u001b[0;32m    445\u001b[0m         SNIMissingWarning,\n\u001b[0;32m    446\u001b[0m     )\n\u001b[0;32m    448\u001b[0m \u001b[39mif\u001b[39;00m send_sni:\n\u001b[1;32m--> 449\u001b[0m     ssl_sock \u001b[39m=\u001b[39m _ssl_wrap_socket_impl(\n\u001b[0;32m    450\u001b[0m         sock, context, tls_in_tls, server_hostname\u001b[39m=\u001b[39;49mserver_hostname\n\u001b[0;32m    451\u001b[0m     )\n\u001b[0;32m    452\u001b[0m \u001b[39melse\u001b[39;00m:\n\u001b[0;32m    453\u001b[0m     ssl_sock \u001b[39m=\u001b[39m _ssl_wrap_socket_impl(sock, context, tls_in_tls)\n",
      "File \u001b[1;32mc:\\Users\\ka5560\\miniconda3\\envs\\work\\lib\\site-packages\\urllib3\\util\\ssl_.py:493\u001b[0m, in \u001b[0;36m_ssl_wrap_socket_impl\u001b[1;34m(sock, ssl_context, tls_in_tls, server_hostname)\u001b[0m\n\u001b[0;32m    490\u001b[0m     \u001b[39mreturn\u001b[39;00m SSLTransport(sock, ssl_context, server_hostname)\n\u001b[0;32m    492\u001b[0m \u001b[39mif\u001b[39;00m server_hostname:\n\u001b[1;32m--> 493\u001b[0m     \u001b[39mreturn\u001b[39;00m ssl_context\u001b[39m.\u001b[39;49mwrap_socket(sock, server_hostname\u001b[39m=\u001b[39;49mserver_hostname)\n\u001b[0;32m    494\u001b[0m \u001b[39melse\u001b[39;00m:\n\u001b[0;32m    495\u001b[0m     \u001b[39mreturn\u001b[39;00m ssl_context\u001b[39m.\u001b[39mwrap_socket(sock)\n",
      "File \u001b[1;32mc:\\Users\\ka5560\\miniconda3\\envs\\work\\lib\\ssl.py:501\u001b[0m, in \u001b[0;36mSSLContext.wrap_socket\u001b[1;34m(self, sock, server_side, do_handshake_on_connect, suppress_ragged_eofs, server_hostname, session)\u001b[0m\n\u001b[0;32m    495\u001b[0m \u001b[39mdef\u001b[39;00m \u001b[39mwrap_socket\u001b[39m(\u001b[39mself\u001b[39m, sock, server_side\u001b[39m=\u001b[39m\u001b[39mFalse\u001b[39;00m,\n\u001b[0;32m    496\u001b[0m                 do_handshake_on_connect\u001b[39m=\u001b[39m\u001b[39mTrue\u001b[39;00m,\n\u001b[0;32m    497\u001b[0m                 suppress_ragged_eofs\u001b[39m=\u001b[39m\u001b[39mTrue\u001b[39;00m,\n\u001b[0;32m    498\u001b[0m                 server_hostname\u001b[39m=\u001b[39m\u001b[39mNone\u001b[39;00m, session\u001b[39m=\u001b[39m\u001b[39mNone\u001b[39;00m):\n\u001b[0;32m    499\u001b[0m     \u001b[39m# SSLSocket class handles server_hostname encoding before it calls\u001b[39;00m\n\u001b[0;32m    500\u001b[0m     \u001b[39m# ctx._wrap_socket()\u001b[39;00m\n\u001b[1;32m--> 501\u001b[0m     \u001b[39mreturn\u001b[39;00m \u001b[39mself\u001b[39;49m\u001b[39m.\u001b[39;49msslsocket_class\u001b[39m.\u001b[39;49m_create(\n\u001b[0;32m    502\u001b[0m         sock\u001b[39m=\u001b[39;49msock,\n\u001b[0;32m    503\u001b[0m         server_side\u001b[39m=\u001b[39;49mserver_side,\n\u001b[0;32m    504\u001b[0m         do_handshake_on_connect\u001b[39m=\u001b[39;49mdo_handshake_on_connect,\n\u001b[0;32m    505\u001b[0m         suppress_ragged_eofs\u001b[39m=\u001b[39;49msuppress_ragged_eofs,\n\u001b[0;32m    506\u001b[0m         server_hostname\u001b[39m=\u001b[39;49mserver_hostname,\n\u001b[0;32m    507\u001b[0m         context\u001b[39m=\u001b[39;49m\u001b[39mself\u001b[39;49m,\n\u001b[0;32m    508\u001b[0m         session\u001b[39m=\u001b[39;49msession\n\u001b[0;32m    509\u001b[0m     )\n",
      "File \u001b[1;32mc:\\Users\\ka5560\\miniconda3\\envs\\work\\lib\\ssl.py:1041\u001b[0m, in \u001b[0;36mSSLSocket._create\u001b[1;34m(cls, sock, server_side, do_handshake_on_connect, suppress_ragged_eofs, server_hostname, context, session)\u001b[0m\n\u001b[0;32m   1038\u001b[0m         \u001b[39mif\u001b[39;00m timeout \u001b[39m==\u001b[39m \u001b[39m0.0\u001b[39m:\n\u001b[0;32m   1039\u001b[0m             \u001b[39m# non-blocking\u001b[39;00m\n\u001b[0;32m   1040\u001b[0m             \u001b[39mraise\u001b[39;00m \u001b[39mValueError\u001b[39;00m(\u001b[39m\"\u001b[39m\u001b[39mdo_handshake_on_connect should not be specified for non-blocking sockets\u001b[39m\u001b[39m\"\u001b[39m)\n\u001b[1;32m-> 1041\u001b[0m         \u001b[39mself\u001b[39;49m\u001b[39m.\u001b[39;49mdo_handshake()\n\u001b[0;32m   1042\u001b[0m \u001b[39mexcept\u001b[39;00m (\u001b[39mOSError\u001b[39;00m, \u001b[39mValueError\u001b[39;00m):\n\u001b[0;32m   1043\u001b[0m     \u001b[39mself\u001b[39m\u001b[39m.\u001b[39mclose()\n",
      "File \u001b[1;32mc:\\Users\\ka5560\\miniconda3\\envs\\work\\lib\\ssl.py:1310\u001b[0m, in \u001b[0;36mSSLSocket.do_handshake\u001b[1;34m(self, block)\u001b[0m\n\u001b[0;32m   1308\u001b[0m     \u001b[39mif\u001b[39;00m timeout \u001b[39m==\u001b[39m \u001b[39m0.0\u001b[39m \u001b[39mand\u001b[39;00m block:\n\u001b[0;32m   1309\u001b[0m         \u001b[39mself\u001b[39m\u001b[39m.\u001b[39msettimeout(\u001b[39mNone\u001b[39;00m)\n\u001b[1;32m-> 1310\u001b[0m     \u001b[39mself\u001b[39;49m\u001b[39m.\u001b[39;49m_sslobj\u001b[39m.\u001b[39;49mdo_handshake()\n\u001b[0;32m   1311\u001b[0m \u001b[39mfinally\u001b[39;00m:\n\u001b[0;32m   1312\u001b[0m     \u001b[39mself\u001b[39m\u001b[39m.\u001b[39msettimeout(timeout)\n",
      "\u001b[1;31mKeyboardInterrupt\u001b[0m: "
     ]
    }
   ],
   "source": [
    "code_list = []\n",
    "data_list = []\n",
    "# 페이지도 1페이지 받아서 총 몇페이지인지 설정가능\n",
    "\n",
    "for page in range(1,11):\n",
    "    page = int(page)\n",
    "    url = f\"https://kmong.com/api/search/v2/result/GIG?page={page}&sort=_score&service=web&metadata=&keyword=%ED%81%AC%EB%A1%A4%EB%A7%81&q=%ED%81%AC%EB%A1%A4%EB%A7%81\"\n",
    "    soup = bs(requests.get(url, headers=headers).text, \"html.parser\")\n",
    "    api_data = json.loads(soup.text)\n",
    "    for data in api_data[\"gigs\"]:\n",
    "        code_list.append(data[\"PID\"])\n",
    "        \n",
    "for code in tqdm(code_list):\n",
    "    api_page = 1\n",
    "    first_api_url = f\"https://kmong.com/api/v5/gigs/{code}/ratings?page={api_page}&order_by=REPLIED_AT_DESC\"\n",
    "    first_soup = bs(requests.get(first_api_url, headers=headers).text, \"html.parser\")\n",
    "    review_data = json.loads(first_soup.text)\n",
    "    for api_page in range(1, int(review_data['last_page']) + 1):\n",
    "        total_api_url = f\"https://kmong.com/api/v5/gigs/{code}/ratings?page={api_page}&order_by=REPLIED_AT_DESC\"\n",
    "        second_soup = bs(requests.get(total_api_url, headers=headers).text, \"html.parser\")\n",
    "        json_f = json.loads(second_soup.text)\n",
    "        for review_data in json_f['ratings']:\n",
    "            data_list.append([code, review_data[\"order\"]['title'], review_data[\"rate\"], review_data[\"message\"], review_data[\"order\"]['price_range'], review_data[\"order\"]['days']])"
   ]
  },
  {
   "attachments": {},
   "cell_type": "markdown",
   "metadata": {},
   "source": [
    "### YOUTUBE"
   ]
  },
  {
   "cell_type": "code",
   "execution_count": 1,
   "metadata": {},
   "outputs": [],
   "source": [
    "import requests\n",
    "import pandas as pd\n",
    "from tqdm import tqdm\n",
    "from bs4 import BeautifulSoup as bs\n",
    "import time\n",
    "\n",
    "from selenium import webdriver\n",
    "from selenium.webdriver.common.keys import Keys\n",
    "from selenium.webdriver.support.select import Select\n",
    "from selenium.webdriver.support.select import By\n",
    "from selenium.webdriver.support.ui import WebDriverWait\n",
    "from selenium.webdriver.support import expected_conditions as EC"
   ]
  },
  {
   "cell_type": "code",
   "execution_count": 2,
   "metadata": {},
   "outputs": [
    {
     "data": {
      "text/html": [
       "<div>\n",
       "<style scoped>\n",
       "    .dataframe tbody tr th:only-of-type {\n",
       "        vertical-align: middle;\n",
       "    }\n",
       "\n",
       "    .dataframe tbody tr th {\n",
       "        vertical-align: top;\n",
       "    }\n",
       "\n",
       "    .dataframe thead th {\n",
       "        text-align: right;\n",
       "    }\n",
       "</style>\n",
       "<table border=\"1\" class=\"dataframe\">\n",
       "  <thead>\n",
       "    <tr style=\"text-align: right;\">\n",
       "      <th></th>\n",
       "      <th>link</th>\n",
       "    </tr>\n",
       "  </thead>\n",
       "  <tbody>\n",
       "    <tr>\n",
       "      <th>0</th>\n",
       "      <td>https://www.youtube.com/watch?v=yQ20jZwDjTE</td>\n",
       "    </tr>\n",
       "    <tr>\n",
       "      <th>1</th>\n",
       "      <td>https://www.youtube.com/watch?v=aYwg1H5BK04</td>\n",
       "    </tr>\n",
       "    <tr>\n",
       "      <th>2</th>\n",
       "      <td>https://www.youtube.com/watch?v=fl0BIk1e9Z0</td>\n",
       "    </tr>\n",
       "    <tr>\n",
       "      <th>3</th>\n",
       "      <td>https://www.youtube.com/watch?v=1b7pXC1-IbE</td>\n",
       "    </tr>\n",
       "    <tr>\n",
       "      <th>4</th>\n",
       "      <td>https://www.youtube.com/watch?v=hTF-z5PZ-OI</td>\n",
       "    </tr>\n",
       "  </tbody>\n",
       "</table>\n",
       "</div>"
      ],
      "text/plain": [
       "                                          link\n",
       "0  https://www.youtube.com/watch?v=yQ20jZwDjTE\n",
       "1  https://www.youtube.com/watch?v=aYwg1H5BK04\n",
       "2  https://www.youtube.com/watch?v=fl0BIk1e9Z0\n",
       "3  https://www.youtube.com/watch?v=1b7pXC1-IbE\n",
       "4  https://www.youtube.com/watch?v=hTF-z5PZ-OI"
      ]
     },
     "execution_count": 2,
     "metadata": {},
     "output_type": "execute_result"
    }
   ],
   "source": [
    "link_df = pd.read_parquet(\"./practice_youtube.parquet\")\n",
    "link_df.head()"
   ]
  },
  {
   "attachments": {},
   "cell_type": "markdown",
   "metadata": {},
   "source": [
    "## API"
   ]
  },
  {
   "cell_type": "code",
   "execution_count": 27,
   "metadata": {},
   "outputs": [],
   "source": [
    "import pandas\n",
    "from googleapiclient.discovery import build\n",
    "\n",
    "import warnings # 경고창 무시\n",
    "warnings.filterwarnings('ignore')\n",
    "\n",
    "import yaml\n",
    "with open(\"key.yaml\") as f:\n",
    "    key = yaml.load(f, Loader=yaml.FullLoader)"
   ]
  },
  {
   "cell_type": "code",
   "execution_count": 29,
   "metadata": {},
   "outputs": [],
   "source": [
    "YOUTUBE_API_KEY = key['YOUTUBE_API_KEY']"
   ]
  },
  {
   "cell_type": "code",
   "execution_count": 31,
   "metadata": {},
   "outputs": [],
   "source": [
    "VIDEO_ID = \"yQ20jZwDjTE\"\n",
    "\n",
    "comments = list()\n",
    "api_obj = build('youtube', 'v3', developerKey=YOUTUBE_API_KEY)\n",
    "response = api_obj.commentThreads().list(part='snippet,replies', videoId=VIDEO_ID, maxResults=100).execute()"
   ]
  },
  {
   "cell_type": "code",
   "execution_count": 32,
   "metadata": {},
   "outputs": [],
   "source": [
    "while response:\n",
    "    for item in response['items']:\n",
    "        comment = item['snippet']['topLevelComment']['snippet']\n",
    "        comments.append([comment['textDisplay'], comment['authorDisplayName'], comment['publishedAt'], comment['likeCount']])\n",
    " \n",
    "        if item['snippet']['totalReplyCount'] > 0:\n",
    "            for reply_item in item['replies']['comments']:\n",
    "                reply = reply_item['snippet']\n",
    "                comments.append([reply['textDisplay'], reply['authorDisplayName'], reply['publishedAt'], reply['likeCount']])\n",
    " \n",
    "    if 'nextPageToken' in response:\n",
    "        response = api_obj.commentThreads().list(part='snippet,replies', videoId='sWC-pp6CXpA', pageToken=response['nextPageToken'], maxResults=100).execute()\n",
    "    else:\n",
    "        break"
   ]
  },
  {
   "cell_type": "code",
   "execution_count": 33,
   "metadata": {},
   "outputs": [],
   "source": [
    "df = pandas.DataFrame(comments)"
   ]
  },
  {
   "cell_type": "code",
   "execution_count": 34,
   "metadata": {},
   "outputs": [
    {
     "data": {
      "text/html": [
       "<div>\n",
       "<style scoped>\n",
       "    .dataframe tbody tr th:only-of-type {\n",
       "        vertical-align: middle;\n",
       "    }\n",
       "\n",
       "    .dataframe tbody tr th {\n",
       "        vertical-align: top;\n",
       "    }\n",
       "\n",
       "    .dataframe thead th {\n",
       "        text-align: right;\n",
       "    }\n",
       "</style>\n",
       "<table border=\"1\" class=\"dataframe\">\n",
       "  <thead>\n",
       "    <tr style=\"text-align: right;\">\n",
       "      <th></th>\n",
       "      <th>0</th>\n",
       "      <th>1</th>\n",
       "      <th>2</th>\n",
       "      <th>3</th>\n",
       "    </tr>\n",
       "  </thead>\n",
       "  <tbody>\n",
       "    <tr>\n",
       "      <th>0</th>\n",
       "      <td>[웹 스크래핑 변경사항]&lt;br&gt;1. &amp;quot;티스토리&amp;quot;는 UserAgen...</td>\n",
       "      <td>나도코딩</td>\n",
       "      <td>2020-08-08T02:28:21Z</td>\n",
       "      <td>108</td>\n",
       "    </tr>\n",
       "    <tr>\n",
       "      <th>1</th>\n",
       "      <td>@한태웉 저도 같은 상태입니다 ㅠㅜ</td>\n",
       "      <td>김찬형</td>\n",
       "      <td>2022-12-18T11:21:21Z</td>\n",
       "      <td>0</td>\n",
       "    </tr>\n",
       "    <tr>\n",
       "      <th>2</th>\n",
       "      <td>나도 코딩님께! 강의 열심히 듣고 따라서 치고 배우고 있습니다. 오늘 동영상 &lt;a ...</td>\n",
       "      <td>Jeong Hwan Lee</td>\n",
       "      <td>2022-08-23T15:08:30Z</td>\n",
       "      <td>3</td>\n",
       "    </tr>\n",
       "    <tr>\n",
       "      <th>3</th>\n",
       "      <td>혹시 아직 보고있으신분 계신가요 쿠팡 아예 막힌것 같아서요 cmd창에서도 pytho...</td>\n",
       "      <td>한태웉</td>\n",
       "      <td>2022-08-19T11:00:01Z</td>\n",
       "      <td>1</td>\n",
       "    </tr>\n",
       "    <tr>\n",
       "      <th>4</th>\n",
       "      <td>@고양이형인간  안녕하세요. 저도 같은 에러가 떠서 xpath로도 해봤는데 진행이 ...</td>\n",
       "      <td>Sungeun</td>\n",
       "      <td>2022-03-14T07:34:12Z</td>\n",
       "      <td>0</td>\n",
       "    </tr>\n",
       "    <tr>\n",
       "      <th>...</th>\n",
       "      <td>...</td>\n",
       "      <td>...</td>\n",
       "      <td>...</td>\n",
       "      <td>...</td>\n",
       "    </tr>\n",
       "    <tr>\n",
       "      <th>506</th>\n",
       "      <td>3</td>\n",
       "      <td>가나다</td>\n",
       "      <td>2022-01-12T11:11:52Z</td>\n",
       "      <td>0</td>\n",
       "    </tr>\n",
       "    <tr>\n",
       "      <th>507</th>\n",
       "      <td>1</td>\n",
       "      <td>펭구</td>\n",
       "      <td>2022-01-12T11:11:49Z</td>\n",
       "      <td>0</td>\n",
       "    </tr>\n",
       "    <tr>\n",
       "      <th>508</th>\n",
       "      <td>1등이네 ㅎㅎ</td>\n",
       "      <td>애플은사과</td>\n",
       "      <td>2022-01-12T11:11:47Z</td>\n",
       "      <td>0</td>\n",
       "    </tr>\n",
       "    <tr>\n",
       "      <th>509</th>\n",
       "      <td>오</td>\n",
       "      <td>테르밋</td>\n",
       "      <td>2022-01-12T11:11:44Z</td>\n",
       "      <td>0</td>\n",
       "    </tr>\n",
       "    <tr>\n",
       "      <th>510</th>\n",
       "      <td>와우</td>\n",
       "      <td>제로 Xero</td>\n",
       "      <td>2022-01-12T11:11:43Z</td>\n",
       "      <td>0</td>\n",
       "    </tr>\n",
       "  </tbody>\n",
       "</table>\n",
       "<p>511 rows × 4 columns</p>\n",
       "</div>"
      ],
      "text/plain": [
       "                                                     0               1  \\\n",
       "0    [웹 스크래핑 변경사항]<br>1. &quot;티스토리&quot;는 UserAgen...            나도코딩   \n",
       "1                                  @한태웉 저도 같은 상태입니다 ㅠㅜ             김찬형   \n",
       "2    나도 코딩님께! 강의 열심히 듣고 따라서 치고 배우고 있습니다. 오늘 동영상 <a ...  Jeong Hwan Lee   \n",
       "3    혹시 아직 보고있으신분 계신가요 쿠팡 아예 막힌것 같아서요 cmd창에서도 pytho...             한태웉   \n",
       "4    @고양이형인간  안녕하세요. 저도 같은 에러가 떠서 xpath로도 해봤는데 진행이 ...         Sungeun   \n",
       "..                                                 ...             ...   \n",
       "506                                                  3             가나다   \n",
       "507                                                  1              펭구   \n",
       "508                                            1등이네 ㅎㅎ           애플은사과   \n",
       "509                                                  오             테르밋   \n",
       "510                                                 와우         제로 Xero   \n",
       "\n",
       "                        2    3  \n",
       "0    2020-08-08T02:28:21Z  108  \n",
       "1    2022-12-18T11:21:21Z    0  \n",
       "2    2022-08-23T15:08:30Z    3  \n",
       "3    2022-08-19T11:00:01Z    1  \n",
       "4    2022-03-14T07:34:12Z    0  \n",
       "..                    ...  ...  \n",
       "506  2022-01-12T11:11:52Z    0  \n",
       "507  2022-01-12T11:11:49Z    0  \n",
       "508  2022-01-12T11:11:47Z    0  \n",
       "509  2022-01-12T11:11:44Z    0  \n",
       "510  2022-01-12T11:11:43Z    0  \n",
       "\n",
       "[511 rows x 4 columns]"
      ]
     },
     "execution_count": 34,
     "metadata": {},
     "output_type": "execute_result"
    }
   ],
   "source": [
    "df"
   ]
  },
  {
   "attachments": {},
   "cell_type": "markdown",
   "metadata": {},
   "source": [
    "## SELENIUM"
   ]
  },
  {
   "cell_type": "code",
   "execution_count": 13,
   "metadata": {},
   "outputs": [
    {
     "name": "stderr",
     "output_type": "stream",
     "text": [
      "100%|██████████| 652/652 [11:05:22<00:00, 61.23s/it]    \n"
     ]
    },
    {
     "name": "stdout",
     "output_type": "stream",
     "text": [
      "17323\n"
     ]
    }
   ],
   "source": [
    "List = []\n",
    "url_list = link_df.link.to_list()\n",
    "driver = webdriver.Chrome(\"C:/Workspace/chromedriver.exe\")\n",
    "\n",
    "for url in tqdm(url_list[14:]):\n",
    "    driver.get(url)\n",
    "    driver.implicitly_wait(10)\n",
    "    driver.find_element_by_css_selector(\"body\").send_keys(Keys.PAGE_DOWN)\n",
    "    time.sleep(3)\n",
    "    last_height = driver.execute_script(\"return document.documentElement.scrollHeight\")\n",
    "    comment_height = last_height\n",
    "    driver.execute_script(\"window.scrollTo(0, document.body.scrollHeight);\")\n",
    "    while True:\n",
    "        for _ in range(5):\n",
    "            driver.find_element_by_css_selector(\"body\").send_keys(Keys.PAGE_DOWN)\n",
    "        driver.implicitly_wait(5)\n",
    "        time.sleep(3)\n",
    "\n",
    "        new_height = driver.execute_script(\"return document.documentElement.scrollHeight\")\n",
    "        if new_height == last_height:\n",
    "            break\n",
    "        last_height = new_height\n",
    "    driver.execute_script(f\"window.scrollTo(0, {comment_height});\")\n",
    "    time.sleep(1.5)\n",
    "    comment_elements = driver.find_elements_by_css_selector('#more-replies > yt-button-shape > button > yt-touch-feedback-shape > div > div.yt-spec-touch-feedback-shape__fill')\n",
    "    \n",
    "    for element in comment_elements:\n",
    "        try:\n",
    "            driver.find_element_by_xpath('//*[@id=\"dismiss-button\"]/yt-button-shape/button/yt-touch-feedback-shape/div/div[2]').click()\n",
    "        except:\n",
    "            pass\n",
    "        try:\n",
    "            element.click()\n",
    "        except:\n",
    "            continue\n",
    "        \n",
    "    more_elements = driver.find_elements_by_css_selector('#more > span')\n",
    "    driver.execute_script(f\"window.scrollTo(0, {comment_height});\")\n",
    "    for element in more_elements:\n",
    "        # try:\n",
    "        #     driver.find_element_by_xpath('//*[@id=\"dismiss-button\"]/yt-button-shape/button/yt-touch-feedback-shape/div/div[2]').click()\n",
    "        # except:\n",
    "        #     pass\n",
    "        if element.text == \"자세히 보기\":\n",
    "            try:\n",
    "                element.click()\n",
    "            except:\n",
    "                continue\n",
    "    comment = driver.find_elements_by_css_selector('#content-text')\n",
    "    for text in comment:\n",
    "        List.append(text.text)\n",
    "driver.quit()\n",
    "print(len(List))\n",
    "\n",
    "df = pd.DataFrame(List, columns=[\"comment\"])\n",
    "df.to_parquet(\"./comment6.parquet\")"
   ]
  },
  {
   "cell_type": "code",
   "execution_count": 11,
   "metadata": {},
   "outputs": [
    {
     "name": "stderr",
     "output_type": "stream",
     "text": [
      "100%|██████████| 34/34 [00:03<00:00,  8.60it/s]\n"
     ]
    },
    {
     "name": "stdout",
     "output_type": "stream",
     "text": [
      "205\n"
     ]
    }
   ],
   "source": [
    "comment = driver.find_elements_by_css_selector('#content-text')\n",
    "for text in tqdm(comment):\n",
    "    List.append(text.text)  \n",
    "driver.quit()\n",
    "print(len(List))"
   ]
  },
  {
   "cell_type": "code",
   "execution_count": 2,
   "metadata": {},
   "outputs": [],
   "source": [
    "df = pd.DataFrame(columns=[\"comment\"])\n",
    "for num in range(1,7):\n",
    "    df = pd.concat([df,pd.read_parquet(f\"./comment{num}.parquet\")])"
   ]
  },
  {
   "cell_type": "code",
   "execution_count": 4,
   "metadata": {},
   "outputs": [
    {
     "name": "stdout",
     "output_type": "stream",
     "text": [
      "<class 'pandas.core.frame.DataFrame'>\n",
      "Int64Index: 21187 entries, 0 to 17322\n",
      "Data columns (total 1 columns):\n",
      " #   Column   Non-Null Count  Dtype \n",
      "---  ------   --------------  ----- \n",
      " 0   comment  21187 non-null  object\n",
      "dtypes: object(1)\n",
      "memory usage: 331.0+ KB\n"
     ]
    }
   ],
   "source": [
    "df.info()\n",
    "df.to_parquet(\"./data.parquet\")"
   ]
  },
  {
   "cell_type": "code",
   "execution_count": 5,
   "metadata": {},
   "outputs": [
    {
     "data": {
      "text/html": [
       "<div>\n",
       "<style scoped>\n",
       "    .dataframe tbody tr th:only-of-type {\n",
       "        vertical-align: middle;\n",
       "    }\n",
       "\n",
       "    .dataframe tbody tr th {\n",
       "        vertical-align: top;\n",
       "    }\n",
       "\n",
       "    .dataframe thead th {\n",
       "        text-align: right;\n",
       "    }\n",
       "</style>\n",
       "<table border=\"1\" class=\"dataframe\">\n",
       "  <thead>\n",
       "    <tr style=\"text-align: right;\">\n",
       "      <th></th>\n",
       "      <th>code</th>\n",
       "      <th>title</th>\n",
       "      <th>rate</th>\n",
       "      <th>review</th>\n",
       "      <th>price_range</th>\n",
       "      <th>days</th>\n",
       "    </tr>\n",
       "  </thead>\n",
       "  <tbody>\n",
       "    <tr>\n",
       "      <th>0</th>\n",
       "      <td>436639</td>\n",
       "      <td>일회성 크롤링, 웹 크롤링, 웹 매크로 프로그램 제작</td>\n",
       "      <td>5.0</td>\n",
       "      <td>신속하게 작업 진행해주었고 결과물도 만족스럽습니다.</td>\n",
       "      <td>10만원 ~ 20만원</td>\n",
       "      <td>1일</td>\n",
       "    </tr>\n",
       "    <tr>\n",
       "      <th>1</th>\n",
       "      <td>436639</td>\n",
       "      <td>일회성 크롤링, 웹 크롤링, 웹 매크로 프로그램 제작</td>\n",
       "      <td>5.0</td>\n",
       "      <td>전번에 의뢰드렸던 프로그램이 너무좋아서 다른개발건으로 의뢰 드렸는데 너무좋습니다! ...</td>\n",
       "      <td>20만원 ~ 30만원</td>\n",
       "      <td>3일</td>\n",
       "    </tr>\n",
       "    <tr>\n",
       "      <th>2</th>\n",
       "      <td>436639</td>\n",
       "      <td>일회성 크롤링, 웹 크롤링, 웹 매크로 프로그램 제작</td>\n",
       "      <td>5.0</td>\n",
       "      <td>너무 친절하시고 실력 좋으십니다. 강력 추천합니다!</td>\n",
       "      <td>10만원 ~ 20만원</td>\n",
       "      <td>4일</td>\n",
       "    </tr>\n",
       "    <tr>\n",
       "      <th>3</th>\n",
       "      <td>436639</td>\n",
       "      <td>일회성 크롤링, 웹 크롤링, 웹 매크로 프로그램 제작</td>\n",
       "      <td>5.0</td>\n",
       "      <td>대표님 이해도가 정말 빠르셔서 수월했습니다 완벽하게 만들어주셔서 감사합니다 여기는 ...</td>\n",
       "      <td>10만원 ~ 20만원</td>\n",
       "      <td>24시간이내</td>\n",
       "    </tr>\n",
       "    <tr>\n",
       "      <th>4</th>\n",
       "      <td>436639</td>\n",
       "      <td>일회성 크롤링, 웹 크롤링, 웹 매크로 프로그램 제작</td>\n",
       "      <td>5.0</td>\n",
       "      <td>완벽한 결과물을 만들어주셨습니다. 진행중인 프로젝트가 계속 있는데 개발자님과 계속 ...</td>\n",
       "      <td>20만원 ~ 30만원</td>\n",
       "      <td>6일</td>\n",
       "    </tr>\n",
       "    <tr>\n",
       "      <th>...</th>\n",
       "      <td>...</td>\n",
       "      <td>...</td>\n",
       "      <td>...</td>\n",
       "      <td>...</td>\n",
       "      <td>...</td>\n",
       "      <td>...</td>\n",
       "    </tr>\n",
       "    <tr>\n",
       "      <th>5437</th>\n",
       "      <td>407181</td>\n",
       "      <td>티스토리 블로그 기본 세팅 및 SEO 최적화</td>\n",
       "      <td>5.0</td>\n",
       "      <td>선생님 스킬은 넘사벽입니다.  정확하게 네이버,구글,빙 검색엔진에 탑재해 주십니다....</td>\n",
       "      <td>5만원 미만</td>\n",
       "      <td>24시간이내</td>\n",
       "    </tr>\n",
       "    <tr>\n",
       "      <th>5438</th>\n",
       "      <td>407181</td>\n",
       "      <td>티스토리 블로그 기본 세팅 및 SEO 최적화</td>\n",
       "      <td>5.0</td>\n",
       "      <td>너무 감사드립니다. 저같은 초보분들은 꼭 받아 보시기 바랍니다. 선생님 너무 감사 ...</td>\n",
       "      <td>5만원 미만</td>\n",
       "      <td>24시간이내</td>\n",
       "    </tr>\n",
       "    <tr>\n",
       "      <th>5439</th>\n",
       "      <td>407181</td>\n",
       "      <td>티스토리 블로그 기본 세팅 및 SEO 최적화</td>\n",
       "      <td>5.0</td>\n",
       "      <td>신속하고 빠르게 봐주시고 좋아요. 믿고 맡길 수 있습니다~</td>\n",
       "      <td>5만원 미만</td>\n",
       "      <td>24시간이내</td>\n",
       "    </tr>\n",
       "    <tr>\n",
       "      <th>5440</th>\n",
       "      <td>407181</td>\n",
       "      <td>티스토리 블로그 기본 세팅 및 SEO 최적화</td>\n",
       "      <td>5.0</td>\n",
       "      <td>너무 상세하게 해주셔서 감사합니다. 가끔씩. 문의하겠습니다.</td>\n",
       "      <td>5만원 미만</td>\n",
       "      <td>24시간이내</td>\n",
       "    </tr>\n",
       "    <tr>\n",
       "      <th>5441</th>\n",
       "      <td>407181</td>\n",
       "      <td>티스토리 블로그 기본 세팅 및 SEO 최적화</td>\n",
       "      <td>5.0</td>\n",
       "      <td>와 진짜 빠르고 최고네요. 답답했던 티스토리 에드센스 셋팅 잘 해주셨어요. 혼자서 ...</td>\n",
       "      <td>5만원 미만</td>\n",
       "      <td>24시간이내</td>\n",
       "    </tr>\n",
       "  </tbody>\n",
       "</table>\n",
       "<p>5442 rows × 6 columns</p>\n",
       "</div>"
      ],
      "text/plain": [
       "        code                          title  rate  \\\n",
       "0     436639  일회성 크롤링, 웹 크롤링, 웹 매크로 프로그램 제작   5.0   \n",
       "1     436639  일회성 크롤링, 웹 크롤링, 웹 매크로 프로그램 제작   5.0   \n",
       "2     436639  일회성 크롤링, 웹 크롤링, 웹 매크로 프로그램 제작   5.0   \n",
       "3     436639  일회성 크롤링, 웹 크롤링, 웹 매크로 프로그램 제작   5.0   \n",
       "4     436639  일회성 크롤링, 웹 크롤링, 웹 매크로 프로그램 제작   5.0   \n",
       "...      ...                            ...   ...   \n",
       "5437  407181       티스토리 블로그 기본 세팅 및 SEO 최적화   5.0   \n",
       "5438  407181       티스토리 블로그 기본 세팅 및 SEO 최적화   5.0   \n",
       "5439  407181       티스토리 블로그 기본 세팅 및 SEO 최적화   5.0   \n",
       "5440  407181       티스토리 블로그 기본 세팅 및 SEO 최적화   5.0   \n",
       "5441  407181       티스토리 블로그 기본 세팅 및 SEO 최적화   5.0   \n",
       "\n",
       "                                                 review  price_range    days  \n",
       "0                          신속하게 작업 진행해주었고 결과물도 만족스럽습니다.  10만원 ~ 20만원      1일  \n",
       "1     전번에 의뢰드렸던 프로그램이 너무좋아서 다른개발건으로 의뢰 드렸는데 너무좋습니다! ...  20만원 ~ 30만원      3일  \n",
       "2                          너무 친절하시고 실력 좋으십니다. 강력 추천합니다!  10만원 ~ 20만원      4일  \n",
       "3     대표님 이해도가 정말 빠르셔서 수월했습니다 완벽하게 만들어주셔서 감사합니다 여기는 ...  10만원 ~ 20만원  24시간이내  \n",
       "4     완벽한 결과물을 만들어주셨습니다. 진행중인 프로젝트가 계속 있는데 개발자님과 계속 ...  20만원 ~ 30만원      6일  \n",
       "...                                                 ...          ...     ...  \n",
       "5437  선생님 스킬은 넘사벽입니다.  정확하게 네이버,구글,빙 검색엔진에 탑재해 주십니다....       5만원 미만  24시간이내  \n",
       "5438  너무 감사드립니다. 저같은 초보분들은 꼭 받아 보시기 바랍니다. 선생님 너무 감사 ...       5만원 미만  24시간이내  \n",
       "5439                   신속하고 빠르게 봐주시고 좋아요. 믿고 맡길 수 있습니다~       5만원 미만  24시간이내  \n",
       "5440                  너무 상세하게 해주셔서 감사합니다. 가끔씩. 문의하겠습니다.       5만원 미만  24시간이내  \n",
       "5441  와 진짜 빠르고 최고네요. 답답했던 티스토리 에드센스 셋팅 잘 해주셨어요. 혼자서 ...       5만원 미만  24시간이내  \n",
       "\n",
       "[5442 rows x 6 columns]"
      ]
     },
     "execution_count": 5,
     "metadata": {},
     "output_type": "execute_result"
    }
   ],
   "source": [
    "pd.read_parquet(\"./practice.parquet\")"
   ]
  },
  {
   "cell_type": "code",
   "execution_count": 8,
   "metadata": {},
   "outputs": [
    {
     "data": {
      "text/html": [
       "<div>\n",
       "<style scoped>\n",
       "    .dataframe tbody tr th:only-of-type {\n",
       "        vertical-align: middle;\n",
       "    }\n",
       "\n",
       "    .dataframe tbody tr th {\n",
       "        vertical-align: top;\n",
       "    }\n",
       "\n",
       "    .dataframe thead th {\n",
       "        text-align: right;\n",
       "    }\n",
       "</style>\n",
       "<table border=\"1\" class=\"dataframe\">\n",
       "  <thead>\n",
       "    <tr style=\"text-align: right;\">\n",
       "      <th></th>\n",
       "      <th>comment</th>\n",
       "    </tr>\n",
       "  </thead>\n",
       "  <tbody>\n",
       "    <tr>\n",
       "      <th>0</th>\n",
       "      <td>[웹 스크래핑 변경사항]\\n1. \"티스토리\"는 UserAgent 를 변경하지 않아도...</td>\n",
       "    </tr>\n",
       "    <tr>\n",
       "      <th>1</th>\n",
       "      <td>@1814배종환  0:02:03 부터 설명하는 내용 봐주시면 됩니다 ^^</td>\n",
       "    </tr>\n",
       "    <tr>\n",
       "      <th>2</th>\n",
       "      <td>파이썬으로 모바일 앱도 만들수 있나요?</td>\n",
       "    </tr>\n",
       "    <tr>\n",
       "      <th>3</th>\n",
       "      <td>kivy 를 이용하시면 가능합니다만 파이썬으로 앱개발을 하는 것은 추천드리지 않습니...</td>\n",
       "    </tr>\n",
       "    <tr>\n",
       "      <th>4</th>\n",
       "      <td>@나도코딩  앱개발에는 무슨 언어를 추천하시나요?</td>\n",
       "    </tr>\n",
       "    <tr>\n",
       "      <th>...</th>\n",
       "      <td>...</td>\n",
       "    </tr>\n",
       "    <tr>\n",
       "      <th>17318</th>\n",
       "      <td>마싰겠드앙</td>\n",
       "    </tr>\n",
       "    <tr>\n",
       "      <th>17319</th>\n",
       "      <td>2등?</td>\n",
       "    </tr>\n",
       "    <tr>\n",
       "      <th>17320</th>\n",
       "      <td>노렁ㅅ</td>\n",
       "    </tr>\n",
       "    <tr>\n",
       "      <th>17321</th>\n",
       "      <td>단맛없는 액상 오랜만이네요</td>\n",
       "    </tr>\n",
       "    <tr>\n",
       "      <th>17322</th>\n",
       "      <td>나눔 감사합니다</td>\n",
       "    </tr>\n",
       "  </tbody>\n",
       "</table>\n",
       "<p>21187 rows × 1 columns</p>\n",
       "</div>"
      ],
      "text/plain": [
       "                                                 comment\n",
       "0      [웹 스크래핑 변경사항]\\n1. \"티스토리\"는 UserAgent 를 변경하지 않아도...\n",
       "1               @1814배종환  0:02:03 부터 설명하는 내용 봐주시면 됩니다 ^^\n",
       "2                                  파이썬으로 모바일 앱도 만들수 있나요?\n",
       "3      kivy 를 이용하시면 가능합니다만 파이썬으로 앱개발을 하는 것은 추천드리지 않습니...\n",
       "4                            @나도코딩  앱개발에는 무슨 언어를 추천하시나요?\n",
       "...                                                  ...\n",
       "17318                                              마싰겠드앙\n",
       "17319                                                2등?\n",
       "17320                                                노렁ㅅ\n",
       "17321                                     단맛없는 액상 오랜만이네요\n",
       "17322                                           나눔 감사합니다\n",
       "\n",
       "[21187 rows x 1 columns]"
      ]
     },
     "execution_count": 8,
     "metadata": {},
     "output_type": "execute_result"
    }
   ],
   "source": [
    "df"
   ]
  },
  {
   "cell_type": "code",
   "execution_count": 11,
   "metadata": {},
   "outputs": [
    {
     "ename": "NoSuchWindowException",
     "evalue": "Message: no such window: target window already closed\nfrom unknown error: web view not found\n  (Session info: chrome=110.0.5481.105)\n",
     "output_type": "error",
     "traceback": [
      "\u001b[1;31m---------------------------------------------------------------------------\u001b[0m",
      "\u001b[1;31mNoSuchWindowException\u001b[0m                     Traceback (most recent call last)",
      "Cell \u001b[1;32mIn[11], line 6\u001b[0m\n\u001b[0;32m      4\u001b[0m \u001b[39mexcept\u001b[39;00m:\n\u001b[0;32m      5\u001b[0m     \u001b[39mpass\u001b[39;00m\n\u001b[1;32m----> 6\u001b[0m \u001b[39mif\u001b[39;00m i\u001b[39m.\u001b[39;49mtext \u001b[39m==\u001b[39m \u001b[39m\"\u001b[39m\u001b[39m자세히 보기\u001b[39m\u001b[39m\"\u001b[39m:\n\u001b[0;32m      7\u001b[0m     i\u001b[39m.\u001b[39mclick()\n",
      "File \u001b[1;32mc:\\Users\\ka5560\\miniconda3\\envs\\work\\lib\\site-packages\\selenium\\webdriver\\remote\\webelement.py:76\u001b[0m, in \u001b[0;36mWebElement.text\u001b[1;34m(self)\u001b[0m\n\u001b[0;32m     73\u001b[0m \u001b[39m@property\u001b[39m\n\u001b[0;32m     74\u001b[0m \u001b[39mdef\u001b[39;00m \u001b[39mtext\u001b[39m(\u001b[39mself\u001b[39m):\n\u001b[0;32m     75\u001b[0m     \u001b[39m\"\"\"The text of the element.\"\"\"\u001b[39;00m\n\u001b[1;32m---> 76\u001b[0m     \u001b[39mreturn\u001b[39;00m \u001b[39mself\u001b[39;49m\u001b[39m.\u001b[39;49m_execute(Command\u001b[39m.\u001b[39;49mGET_ELEMENT_TEXT)[\u001b[39m'\u001b[39m\u001b[39mvalue\u001b[39m\u001b[39m'\u001b[39m]\n",
      "File \u001b[1;32mc:\\Users\\ka5560\\miniconda3\\envs\\work\\lib\\site-packages\\selenium\\webdriver\\remote\\webelement.py:633\u001b[0m, in \u001b[0;36mWebElement._execute\u001b[1;34m(self, command, params)\u001b[0m\n\u001b[0;32m    631\u001b[0m     params \u001b[39m=\u001b[39m {}\n\u001b[0;32m    632\u001b[0m params[\u001b[39m'\u001b[39m\u001b[39mid\u001b[39m\u001b[39m'\u001b[39m] \u001b[39m=\u001b[39m \u001b[39mself\u001b[39m\u001b[39m.\u001b[39m_id\n\u001b[1;32m--> 633\u001b[0m \u001b[39mreturn\u001b[39;00m \u001b[39mself\u001b[39;49m\u001b[39m.\u001b[39;49m_parent\u001b[39m.\u001b[39;49mexecute(command, params)\n",
      "File \u001b[1;32mc:\\Users\\ka5560\\miniconda3\\envs\\work\\lib\\site-packages\\selenium\\webdriver\\remote\\webdriver.py:321\u001b[0m, in \u001b[0;36mWebDriver.execute\u001b[1;34m(self, driver_command, params)\u001b[0m\n\u001b[0;32m    319\u001b[0m response \u001b[39m=\u001b[39m \u001b[39mself\u001b[39m\u001b[39m.\u001b[39mcommand_executor\u001b[39m.\u001b[39mexecute(driver_command, params)\n\u001b[0;32m    320\u001b[0m \u001b[39mif\u001b[39;00m response:\n\u001b[1;32m--> 321\u001b[0m     \u001b[39mself\u001b[39;49m\u001b[39m.\u001b[39;49merror_handler\u001b[39m.\u001b[39;49mcheck_response(response)\n\u001b[0;32m    322\u001b[0m     response[\u001b[39m'\u001b[39m\u001b[39mvalue\u001b[39m\u001b[39m'\u001b[39m] \u001b[39m=\u001b[39m \u001b[39mself\u001b[39m\u001b[39m.\u001b[39m_unwrap_value(\n\u001b[0;32m    323\u001b[0m         response\u001b[39m.\u001b[39mget(\u001b[39m'\u001b[39m\u001b[39mvalue\u001b[39m\u001b[39m'\u001b[39m, \u001b[39mNone\u001b[39;00m))\n\u001b[0;32m    324\u001b[0m     \u001b[39mreturn\u001b[39;00m response\n",
      "File \u001b[1;32mc:\\Users\\ka5560\\miniconda3\\envs\\work\\lib\\site-packages\\selenium\\webdriver\\remote\\errorhandler.py:242\u001b[0m, in \u001b[0;36mErrorHandler.check_response\u001b[1;34m(self, response)\u001b[0m\n\u001b[0;32m    240\u001b[0m         alert_text \u001b[39m=\u001b[39m value[\u001b[39m'\u001b[39m\u001b[39malert\u001b[39m\u001b[39m'\u001b[39m]\u001b[39m.\u001b[39mget(\u001b[39m'\u001b[39m\u001b[39mtext\u001b[39m\u001b[39m'\u001b[39m)\n\u001b[0;32m    241\u001b[0m     \u001b[39mraise\u001b[39;00m exception_class(message, screen, stacktrace, alert_text)\n\u001b[1;32m--> 242\u001b[0m \u001b[39mraise\u001b[39;00m exception_class(message, screen, stacktrace)\n",
      "\u001b[1;31mNoSuchWindowException\u001b[0m: Message: no such window: target window already closed\nfrom unknown error: web view not found\n  (Session info: chrome=110.0.5481.105)\n"
     ]
    }
   ],
   "source": [
    "for i in more_elements[2:]:\n",
    "    try:\n",
    "        driver.find_element_by_xpath('//*[@id=\"dismiss-button\"]/yt-button-shape/button/yt-touch-feedback-shape/div/div[2]').click()\n",
    "    except:\n",
    "        pass\n",
    "    if i.text == \"자세히 보기\":\n",
    "        i.click()"
   ]
  },
  {
   "cell_type": "code",
   "execution_count": 9,
   "metadata": {},
   "outputs": [],
   "source": [
    "last_height = driver.execute_script(\"return document.documentElement.scrollHeight\")\n",
    "\n",
    "while True:\n",
    "    \n",
    "    driver.find_element_by_css_selector(\"body\").send_keys(Keys.PAGE_DOWN)\n",
    "    driver.implicitly_wait(5)\n",
    "    time.sleep(2)\n",
    "\n",
    "    new_height = driver.execute_script(\"return document.documentElement.scrollHeight\")\n",
    "    if new_height == last_height:\n",
    "        break\n",
    "    last_height = new_height\n",
    "\n",
    "time.sleep(1.5)"
   ]
  },
  {
   "cell_type": "code",
   "execution_count": 21,
   "metadata": {},
   "outputs": [
    {
     "data": {
      "text/plain": [
       "(25, 69)"
      ]
     },
     "execution_count": 21,
     "metadata": {},
     "output_type": "execute_result"
    }
   ],
   "source": [
    "comment_elements = driver.find_elements_by_css_selector('#more-replies > yt-button-shape > button > yt-touch-feedback-shape > div > div.yt-spec-touch-feedback-shape__fill')\n",
    "more_elements = driver.find_elements_by_css_selector('#more > span')\n",
    "len(comment_elements), len(more_elements)"
   ]
  },
  {
   "cell_type": "code",
   "execution_count": 22,
   "metadata": {},
   "outputs": [],
   "source": [
    "for element in more_elements:\n",
    "    if element.text == \"자세히 보기\":\n",
    "        element.click()"
   ]
  },
  {
   "cell_type": "code",
   "execution_count": 23,
   "metadata": {},
   "outputs": [
    {
     "data": {
      "text/plain": [
       "70"
      ]
     },
     "execution_count": 23,
     "metadata": {},
     "output_type": "execute_result"
    }
   ],
   "source": [
    "List = []\n",
    "comment = driver.find_elements_by_css_selector('#content-text')\n",
    "for text in comment:\n",
    "    List.append(text.text)\n",
    "#content-text\n",
    "len(List)"
   ]
  },
  {
   "cell_type": "code",
   "execution_count": 24,
   "metadata": {},
   "outputs": [
    {
     "data": {
      "text/plain": [
       "['단순하고 명쾌하네요. 초보자들이 이해하기 쉽습니다.',\n",
       " '아~ 그러시면 너무 좋네요.',\n",
       " '쉽게 잘 설명해주셔서 감사합니다 ^^',\n",
       " 'Javascript하고 문법이 비슷하네요. 관심있는 문서를 크롤링 하는방법을 찾다가 이런방법이 있구나 해서 봤는데 오늘 해봐야겠습니다.',\n",
       " '안녕하세요. 화학물질 정보를 엑셀로 구축하고 싶은데요, 예를들어 물질명을 알면 그에 해당하는 CAS #, chemical formular 등을 특정 웹에서 추출하여 엑셀로 빠르게 정리하고 싶은데 이런 코딩은 웹 스크래핑으로 가능한건가요? 가능하다면 기술노트님의 영상 중 어떤거를 보면 좋을지도 추천 부탁드립니다!',\n",
       " '안녕하세요~ 혹시 파이썬으로 만드실껀가요? 그리고 해당 사이트가 있다라는 말씀이시죠? 그 사이트에 가면 물질명으로 정보를 찾을 수가 있는 것이고, 그것을 가져오고 싶다는 얘기인거 같은데요. 혹시 지금 보신 영상을 활용하시면 어려움이 있으시나요? 엑셀로 저장하는 것은 별도의 라이브러리들이 있구요. 사이트에서 가져오는 것은 기본 로직이 비슷해서요. 해당 사이트의 상황으로 바꿔주시면 될거 같은데요. 해보시고 안되시면 질문주시구요~',\n",
       " '말씀하신 것도 현재 공유드린 크롤링 기술을 응용하면 가능할거 같은데요. 그런데, 특정 사이트에 그 내용들이 좀 있어야 하구요. 검색을 해서 어느 사이트든 들어가서 가져오는 것은 쉽지는 않을거 같네요. 쉽게 말해 해당 내용이 모아져 있는 사이트가 있으면 규칙에 따라 가져 올 수 있을거 같아요.',\n",
       " '크롤링으로 블로그에 작성된 1000개정도 되는글을 폴더화시킨다고 했을때 사진은jpg으로 순서에맞게 이름변경돼서 폴더에 저장, 글원고의 제목은 블로그글의제목으로 글내용은 한글이나 워드로 저장하는 작업도 가능한건가요?',\n",
       " '크롤링을 사용하여 블로그의 내용을 가져오는 것은 가능하고, 이미지 저장도 가능합니다. 다만 한글이나 워드로 저장하는 부분이 라이브러리가 필요할 거 같은데요. 대개는 크롤링한 데이터를 TXT나 CSV정도로 저장을 하거든요. 그리고 TXT, CSV를 한글이나 워드로 저장도 가능할거 같구요. 대학교 컴공 전공자면 아주 훌륭한거 같은데요. 한번 시도해보시고 막히시면 질문 주시면 같이 찾아볼께요~',\n",
       " ' @기술노트with 알렉  제가 찾고자 하는 강의가 말씀주신 부분인데요 : ) 강의 요청을...살짝쿵...드려봅니다...^^',\n",
       " '독학중인 완전 생초보입니다. colab에서는 beautifulsoup를 인식안하나요? 저는 google colab에서 selenium이나 bs4 등을 통해서 크롤링하려고 하는데 작업이 쉽지 않네요 ㅎㅎㅎ',\n",
       " '저도 colab을 사용해보진 않았는데요. 아래 블로그 보니 할 수 있어 보이네요. \\nhttps://m.blog.naver.com/xenostep/221987578832',\n",
       " '목소리 왜 이렇게 좋으시죠! 부럽네요..\\n저는 urlopen 보다 requests 가 편하더라고요ㅋㅋ\\n그리고 find보다는 select 가 짱편해요!',\n",
       " '칭찬 감사합니다! 목소리를 더 가다듬게 되네요 ㅋㅋ \\n아 requests가 더 편하시군요. 워낙 기본으로 설명 드리다 보니 그렇게 되었네요.',\n",
       " 'iframe내의 페이지에서 공백이 있는 class명을 가져오고 싶은데 (find_class_name) 공백이 있어서 css로 접근을 하자니 또 안되네요 이런 경우는 어떤 경우 일까용?',\n",
       " '아 제가 iframe 내 데이터 관련해서 아래 링크 한번 보실래요. https://m.blog.naver.com/PostView.nhn?blogId=kiddwannabe&logNo=221253004219&proxyReferer=https:%2F%2Fwww.google.com%2F\\n\\n별도의 방법이 있어 보이네요.',\n",
       " '기술노트with 알렉 프레임 스위칭해도 공백 클래스가 문제네용 ㅜㅜㅜㅜㅜ',\n",
       " \"ModuleNotFoundError: No module named 'bs'라고 뜨면 어떻게 하나요? ㅠㅠ\",\n",
       " '이런 경우 라이브러리 설치가 잘 안되서 그렇거든요. 경로라든가 설치 여부를 확인해보시는게 좋겠습니다. \\nhttps://studyhard24.tistory.com/235\\n이 링크 가보시고 확인해보세요~',\n",
       " '감사합니다!',\n",
       " '이미지 가져올 때 src는 어디서 나온 건지 알 수 있을까요?',\n",
       " '이미지가 표시되는 위치를 보면 src= 하고 주소가 나오는데요. 그 주소가 출처가 되는데요. 질문주신게 그 말씀이신지요?',\n",
       " '기술노트with 알렉 네 감사합니다!! 초보라 모든게 생소하네요!',\n",
       " ' @추추  네, 화이팅입니다!',\n",
       " '와 정말 많이 배웁니다 ^^ 페이스북 댓글 같은것도 같은 방법으로 크롤링이 가능할까요?',\n",
       " '된다고 생각하구요. 자세히는 아래 링크 참고해보세요~ \\nhttps://victorydntmd.tistory.com/244',\n",
       " '저는 왜 결과가 HTTP Error 500: Internal Server Error 이렇게 나올까요.. 설마 맥을 사용해서 그런지요.. 서버가 에러가 뜬다고 하는데\\n이유를 잘 모르겠습니다. ㅜㅜ',\n",
       " '인터널 서버에러는 대개 서버에서 나오는 에러인데요... 맥을 사용한다고 그러진 않을거 같은데요..',\n",
       " '구글기사도 강의해주세요!',\n",
       " '아~ 한번 구글도 되는지 봐야겠네요.',\n",
       " 'Remote end closed connection without response 라는 오류가 뜨는데 막혀서 그런 건가요?ㅠㅠ',\n",
       " '서버에서 응답을 안주었거나 요청 빈도가 너무 잦아서 끊어버렸을 수도 있는데요. 해당 사이트 접속이 웹으로 정상적으로 됐다고 하면 막았다고도 볼 수 있어요. 관련해서 유사한 오류가 나온 상황에 대해서 블로그가 있네요. 아래 참고해보세요~ \\n\\nhttps://m.blog.naver.com/PostView.nhn?blogId=popqser2&logNo=221433758235&proxyReferer=https:%2F%2Fwww.google.com%2F',\n",
       " ' @기술노트with 알렉  답변 감사합니다~:)',\n",
       " '은근 연구원들이 해당 부분을 많이 사용합니다',\n",
       " '엇 어떤 연구원들이 많이 사용하나요?',\n",
       " '혹시 사진이 아니라 영상링크는 못가져오나요?',\n",
       " '링크도 가져올 수 있어요~ HTML내에 포함된 모든 내용은 크롤링이 가능해요.',\n",
       " '주식 정보를 수집하고싶은데,,, 특정 사이트에서 가져오는 것이 가능할까요? 종목명이나 그런것이라도..',\n",
       " '네~ 주식 정보 수집 가능합니다. 주식의 경우는 두가지 방법으로 정보 수집이 가능한데요. 키움이나 이베스트 같은 곳은 api를 제공하고 있어서 api로 종목명 일자별 주가 등을 가져 올 수 있구요. 네이버 같은 곳에서는 주식 정보를 가져올 수 있습니다. 네이터 주식 정보 사이트 내용을 가져 올 올 수 가 있어요~',\n",
       " ' @기술노트with 알렉  제가 조금 욕심인걸까요? 안해봤던 파이참이란 프로그램을 깔아서 유튜버님처럼 코딩을 쳐보고해봤는데, 자꾸 오류가 뜨네요,,',\n",
       " 'Remote ans closed connection without response 라고 에러가 뜨는데 무엇이 잘못된건가요',\n",
       " '응답 없이 연결이 끊겼다는 의미인거 같은데요. 혹시 여러번 호출 시도를 한건가요?',\n",
       " ' @기술노트with 알렉  html = urlopen 이쪽에서 해당 에러가 발생합니다 bs4 설치 되었음에도 이쪽에서 막히네요',\n",
       " \" @Gamj' atang  설치 경로가 다르거나 인식할 수 없는 문제 같은데요..\",\n",
       " '네이버가 안되는것같아요 다른 페이지들은 되네요(저는 ytn 뉴스긁어봄)',\n",
       " ' @ee oim  네이버는 좀더 치밀하게 차단할 수 있어요. 그래도 다른 곳이 되면 그런 식으로 원하는 곳 하면 될 수 있겠네요.',\n",
       " 'Remote end closed connection without response 이런 에러문구가 뜨는데 뭐가 문제인가요',\n",
       " '답병이 없는 경우인데요. 해당 사이트에서 크롤링을 막는 경우도 있습니다. 다른 사이트로 해보시구요. 시간 간격을 넓게 해보시구요.',\n",
       " '크롤러했고 이제 카톡으로 보내고싶은데 어떻게 하나요?',\n",
       " '카톡으로 보내는 기능은 좀 꼼수가 필요할거 같아요. 카톡은 외부로 전송하거나 받는 API를 제공하지 않더라구요. 그런데, 홍보용으로 사용하려고 오픈해준 것이 있는 그것을 이용하면 되지 않을까 싶네요.',\n",
       " 'strip 함수가 인식이 안되요',\n",
       " '아 strip은 기본 함수인거 같은데요...좀 찾아봤는데요. 해당 함수를 사용하기 위해서 별도 모듈 설치 과정은 없네요.',\n",
       " ' @기술노트with 알렉  방법을 찾았어요 감사해요ㅜㅜ',\n",
       " '네이버랑 외신 경제 주요누스만 20개씩 가져올수 있을까요?',\n",
       " '뉴스 20개 정도 가져오는 것은 가능할 거 같구요. 그리고 Open API 찾아보시는 것도 좋은 방법인거 같아요.',\n",
       " ' @기술노트with 알렉  카톡으로 모은 뉴스 전송하고싶은데 어려워요',\n",
       " '개인적으로 문의드릴수있을까요 ??',\n",
       " '어떤 문의 이신가요? hitouchsoft@gmail.com로 메일로 주실래요.',\n",
       " '링크만 가져오는것은 간단하죠 ㅋㅋ 실제 텍스터 파싱과 분류 불필요한 문자 제거, 포맷팅이 오래 걸리죠 ㅋ',\n",
       " '왜 전 계속 에러가 뜰까요 ㅠㅠ bs4 이미 사용중인데;',\n",
       " '혹시 어떤 에러가 뜨시나요?',\n",
       " \"ModuleNotFoundError: No module named 'bs' 저도 이렇게 뜹니다! ㅠㅠ\",\n",
       " '안녕하세요4^^ 잘보고갑니다d',\n",
       " '아니 광고가 너무 많네요',\n",
       " ' @HY Jeong  프리미엄쓰는데요?',\n",
       " ' @HY Jeong  저땐 안썻나보지; 이제 그만하자 내가 잘못했어',\n",
       " '불법이에요 이거',\n",
       " \"그렇네요. 웹사이트 콘텐츠를 긁어오는 '크롤링'을 이용해 확보한 콘텐츠를 자신의 영업에 무단 사용하는 것은 데이터베이스(DB)권 침해 행위라는 대법원 판단이 나왔다. 크롤링이라는 기술이 허락되는 사이트 또는 데이터로만 해야 할거 같네요. 무단은 안되겠네요.\",\n",
       " '뭔말인지 하나도 모르겠네여',\n",
       " '조만간 크롤링에 대해서 한번 다시 올려볼께요~']"
      ]
     },
     "execution_count": 24,
     "metadata": {},
     "output_type": "execute_result"
    }
   ],
   "source": [
    "List"
   ]
  },
  {
   "cell_type": "code",
   "execution_count": null,
   "metadata": {},
   "outputs": [],
   "source": []
  }
 ],
 "metadata": {
  "kernelspec": {
   "display_name": "work",
   "language": "python",
   "name": "python3"
  },
  "language_info": {
   "codemirror_mode": {
    "name": "ipython",
    "version": 3
   },
   "file_extension": ".py",
   "mimetype": "text/x-python",
   "name": "python",
   "nbconvert_exporter": "python",
   "pygments_lexer": "ipython3",
   "version": "3.9.15"
  },
  "orig_nbformat": 4,
  "vscode": {
   "interpreter": {
    "hash": "b15ec17d9f02ef0d53504e4ee36aa8cb87a1a139474fb54a4d9257a4fcdd4a36"
   }
  }
 },
 "nbformat": 4,
 "nbformat_minor": 2
}
