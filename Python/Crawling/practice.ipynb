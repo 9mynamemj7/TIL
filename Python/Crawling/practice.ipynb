{
 "cells": [
  {
   "cell_type": "code",
   "execution_count": 8,
   "metadata": {},
   "outputs": [],
   "source": [
    "from selenium import webdriver\n",
    "from selenium.webdriver.common.keys import Keys"
   ]
  },
  {
   "cell_type": "code",
   "execution_count": 11,
   "metadata": {},
   "outputs": [],
   "source": [
    "wd_path = \"C:\\Workspace\\chromedriver\"\n",
    "driver = webdriver.Chrome(wd_path)\n",
    "driver.get(\"https://www.cmcseoul.or.kr/common.examination.doc_list.sp\")"
   ]
  },
  {
   "cell_type": "code",
   "execution_count": null,
   "metadata": {},
   "outputs": [],
   "source": []
  }
 ],
 "metadata": {
  "kernelspec": {
   "display_name": "Python 3.6.13 ('study')",
   "language": "python",
   "name": "python3"
  },
  "language_info": {
   "codemirror_mode": {
    "name": "ipython",
    "version": 3
   },
   "file_extension": ".py",
   "mimetype": "text/x-python",
   "name": "python",
   "nbconvert_exporter": "python",
   "pygments_lexer": "ipython3",
   "version": "3.6.13"
  },
  "orig_nbformat": 4,
  "vscode": {
   "interpreter": {
    "hash": "bf513bb6c10bb3611ae46cf501d39cd70ba46052aa000d7b534f084aa66b2fe0"
   }
  }
 },
 "nbformat": 4,
 "nbformat_minor": 2
}
