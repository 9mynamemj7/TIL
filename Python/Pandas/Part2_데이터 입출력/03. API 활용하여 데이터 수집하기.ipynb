{
 "cells": [
  {
   "cell_type": "markdown",
   "metadata": {},
   "source": [
    "#### API 활용하여 데이터 수집하기\n",
    "- 구글 지오코딩 API발급 절차\n",
    "    1. 구글지도 서비스\n",
    "    2. 새 프로젝트 만들기\n",
    "    3. API 설정 \n",
    "    4. 사용자 인증\n",
    "    5. API 키 발급\n",
    "- 아나콘다 googlemaps 라이브러리 설치\n",
    "    1. 아나콘다 프롬프트 실행\n",
    "    2. conda install -c conda -forge googlemaps\n",
    "    3. y 입력"
   ]
  },
  {
   "cell_type": "code",
   "execution_count": null,
   "metadata": {},
   "outputs": [],
   "source": [
    "# google 지오코딩 API를 통해 위도, 경도 데이터 가져오기\n",
    "# 라이브러리 가져오기\n",
    "\n",
    "import googlemaps\n",
    "import pandas as pd\n",
    "\n",
    "my_key = \"\"\n",
    "\n",
    "# 구글맵스 객체 생성하기\n",
    "maps = googlemaps.Client(key=my_key)\n",
    "\n",
    "lat = []    # 위도\n",
    "lng = []    # 경도\n",
    "\n",
    "# 장소(또는 주소) 리스트\n",
    "places = ['서울시청','국립국악원','해운대해수욕장']\n",
    "\n",
    "i = 0\n",
    "for place in places:\n",
    "    i = i+1\n",
    "    try:\n",
    "        print(i, place)\n",
    "        # 지오코딩 API 결과값 호출하여 geo_location 변수에 저장\n",
    "        geo_location = maps.geocode(place)[0].get('geometey')\n",
    "        lat.append(geo_location['location']['lat'])\n",
    "        lng.append(geo_location['location']['lng'])\n",
    "\n",
    "    except:\n",
    "        lat.append('')\n",
    "        lng.append('')\n",
    "        print(i)\n",
    "\n",
    "# 데이터프레임으로 변환하기\n",
    "df = pd.DataFrame({'위도': lat, '경도': lng}, index=places)\n",
    "print('\\n')\n",
    "print(df)"
   ]
  }
 ],
 "metadata": {
  "language_info": {
   "name": "python"
  },
  "orig_nbformat": 4
 },
 "nbformat": 4,
 "nbformat_minor": 2
}
