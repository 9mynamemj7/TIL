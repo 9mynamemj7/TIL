{
 "cells": [
  {
   "cell_type": "markdown",
   "metadata": {},
   "source": [
    "#### 데이터 저장하기\n",
    "- CSV 파일로 저장\n",
    "\n",
    "        DataFrame객체.to_csv(\"파일이름(경로)\")"
   ]
  },
  {
   "cell_type": "code",
   "execution_count": null,
   "metadata": {},
   "outputs": [],
   "source": [
    "import pandas as pd\n",
    "\n",
    "# 판다스 DataFrame() 함수로 데이터프레임 변환. 변수 df에 저장 \n",
    "data = {'name' : [ 'Jerry', 'Riah', 'Paul'],\n",
    "        'algol' : [ \"A\", \"A+\", \"B\"],\n",
    "        'basic' : [ \"C\", \"B\", \"B+\"],\n",
    "        'c++' : [ \"B+\", \"C\", \"C+\"],\n",
    "        }\n",
    "\n",
    "df = pd.DataFrame(data)\n",
    "df.set_index('name', inplace=True)   #name 열을 인덱스로 지정\n",
    "print(df)\n",
    "\n",
    "# to_csv() 메소드를 사용하여 CSV 파일로 내보내기. 파열명은 df_sample.csv로 저장\n",
    "df.to_csv(\"./df_sample.csv\")"
   ]
  },
  {
   "cell_type": "markdown",
   "metadata": {},
   "source": [
    "- JSON 파일로 저장\n",
    "\n",
    "        DataFrame객체.to_json(\"파일이름(경로)\")"
   ]
  },
  {
   "cell_type": "code",
   "execution_count": null,
   "metadata": {},
   "outputs": [],
   "source": [
    "import pandas as pd\n",
    "\n",
    "# 판다스 DataFrame() 함수로 데이터프레임 변환. 변수 df에 저장 \n",
    "data = {'name' : [ 'Jerry', 'Riah', 'Paul'],\n",
    "        'algol' : [ \"A\", \"A+\", \"B\"],\n",
    "        'basic' : [ \"C\", \"B\", \"B+\"],\n",
    "        'c++' : [ \"B+\", \"C\", \"C+\"],\n",
    "        }\n",
    "\n",
    "df = pd.DataFrame(data)\n",
    "df.set_index('name', inplace=True)   #name 열을 인덱스로 지정\n",
    "print(df)\n",
    "\n",
    "# to_json() 메소드를 사용하여 JSON 파일로 내보내기. 파열명은 df_sample.json로 저장\n",
    "df.to_json(\"./df_sample.json\")"
   ]
  },
  {
   "cell_type": "markdown",
   "metadata": {},
   "source": [
    "- Excel 파일로 저장\n",
    "\n",
    "            DataFrame객체.to_excel(\"파일이름(경로)\")"
   ]
  },
  {
   "cell_type": "code",
   "execution_count": null,
   "metadata": {},
   "outputs": [],
   "source": [
    "import pandas as pd\n",
    "\n",
    "# 판다스 DataFrame() 함수로 데이터프레임 변환. 변수 df에 저장 \n",
    "data = {'name' : [ 'Jerry', 'Riah', 'Paul'],\n",
    "        'algol' : [ \"A\", \"A+\", \"B\"],\n",
    "        'basic' : [ \"C\", \"B\", \"B+\"],\n",
    "        'c++' : [ \"B+\", \"C\", \"C+\"],\n",
    "        }\n",
    "\n",
    "df = pd.DataFrame(data)\n",
    "df.set_index('name', inplace=True)   #name 열을 인덱스로 지정\n",
    "print(df)\n",
    "\n",
    "# to_excel() 메소드를 사용하여 엑셀 파일로 내보내기. 파열명은 df_sample.xlsx로 저장\n",
    "df.to_excel(\"./df_sample.xlsx\")"
   ]
  },
  {
   "cell_type": "markdown",
   "metadata": {},
   "source": [
    "- 여러개의 데이터프레임을 하나의 Excel파일로 저장\n",
    "\n",
    "            pandas.ExcelWriter(\"파일이름(경로)\")"
   ]
  },
  {
   "cell_type": "code",
   "execution_count": null,
   "metadata": {},
   "outputs": [],
   "source": [
    "import pandas as pd\n",
    "\n",
    "# 판다스 DataFrame() 함수로 데이터프레임 변환, 변수 df1, df2에 저장\n",
    "data1 = {'name' : [ 'Jerry', 'Riah', 'Paul'],\n",
    "        'algol' : [ \"A\", \"A+\", \"B\"],\n",
    "        'basic' : [ \"C\", \"B\", \"B+\"],\n",
    "        'c++' : [ \"B+\", \"C\", \"C+\"],}\n",
    "\n",
    "data2 = {'c0': [1,2,3], \n",
    "        'c1': [4,5,6],\n",
    "        'c2': [7,8,9],\n",
    "        'c3': [10,11,12],\n",
    "        'c4': [13,14,15]}\n",
    "\n",
    "df1 = pd.DataFrame(data1)\n",
    "df1.set_index('name', inplace=True)\n",
    "display(df1,\"\\n\")\n",
    "\n",
    "\n",
    "df2 = pd.DataFrame(data2)\n",
    "df2.set_index('c0', inplace=True)\n",
    "display(df2,\"\\n\")\n",
    "\n",
    "# df1을 'sheet1'으로 df2를 'sheet2'로 저장 (Excel 파일명은 \"df_excelwriter.xlsx\")\n",
    "writer = pd.ExcelWriter(\"./df_excelwriter.xlsx\")\n",
    "df1.to_excel(writer, sheet_name=\"sheet1\")\n",
    "df2.to_excel(writer, sheet_name=\"sheet2\")\n",
    "writer.save()"
   ]
  }
 ],
 "metadata": {
  "language_info": {
   "name": "python"
  },
  "orig_nbformat": 4
 },
 "nbformat": 4,
 "nbformat_minor": 2
}
