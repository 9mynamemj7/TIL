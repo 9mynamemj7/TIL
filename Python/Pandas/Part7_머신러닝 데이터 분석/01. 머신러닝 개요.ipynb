{
 "cells": [
  {
   "cell_type": "markdown",
   "metadata": {},
   "source": [
    "#### 머신러닝 개요\n",
    "- 머신러닝이란?"
   ]
  },
  {
   "cell_type": "markdown",
   "metadata": {},
   "source": [
    "머신러닝(machine learning)이란 기계(컴퓨터 알고리즘) 스스로 데이터를 학습하여 서로 다른 변수 간의 관계를 찾아 나가는 과정\n",
    "\n",
    "예측(prediction), 분류(classification), 군집(clustering) 알고리즘 등으로 분류된다"
   ]
  },
  {
   "cell_type": "markdown",
   "metadata": {},
   "source": [
    "- 지도학습 vs 비지도 학습"
   ]
  },
  {
   "cell_type": "markdown",
   "metadata": {},
   "source": [
    "1. 지도학습(supervised learning): 정답 데이터를 다른 데이터와 함께 컴퓨터 알고리즘에 입력하는 방식\n",
    "\n",
    "        회귀분석, 분류\n",
    "2. 비지도학습(unsupervised learning): 정답 데이터 없이 컴퓨터 알고리즘 스스로 데이터로 부터 숨은 패턴을 찾아내는 방식\n",
    "\n",
    "        군집분석    \n",
    "\n"
   ]
  },
  {
   "cell_type": "markdown",
   "metadata": {},
   "source": [
    "- 머신러닝 프로세스"
   ]
  },
  {
   "cell_type": "markdown",
   "metadata": {},
   "source": [
    "분석 전 컴퓨터 알고리즘이 이해할 수 있는 형태로 데이터를 변환해야한다.\n",
    "\n",
    "분석 대상에 관해 수집한 관측값(observation)을 속성(feature 또는 variable)을 기준으로 정리한다.\n",
    "데이터프레임의 열은 속성을 나타내는 변수들이 위치하고, 데이터 프레임의 행은 하나의 관측값을 나타낸다. 분석 대상에 대한 관측값의 개수만큼 행을 늘리면 된다."
   ]
  }
 ],
 "metadata": {
  "language_info": {
   "name": "python"
  },
  "orig_nbformat": 4
 },
 "nbformat": 4,
 "nbformat_minor": 2
}
